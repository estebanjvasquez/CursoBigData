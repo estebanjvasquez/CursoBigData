{
  "cells": [
    {
      "cell_type": "markdown",
      "metadata": {
        "id": "view-in-github",
        "colab_type": "text"
      },
      "source": [
        "<a href=\"https://colab.research.google.com/github/estebanjvasquez/CursoBigData/blob/main/Modulo%206%20dia%2002/Esteban_M6_SpaceX_1_Data_Collection_Api.ipynb\" target=\"_parent\"><img src=\"https://colab.research.google.com/assets/colab-badge.svg\" alt=\"Open In Colab\"/></a>"
      ]
    },
    {
      "metadata": {
        "id": "IsXJyQ5GNy3i"
      },
      "cell_type": "markdown",
      "source": [
        "## **Etapa 1: Obtencion de datos**"
      ]
    },
    {
      "metadata": {
        "id": "8UxYeQ6vNy3j"
      },
      "cell_type": "markdown",
      "source": [
        "En esta práctica obtendrás los datos para predecir si un falcon 9 aterizará con éxito o no. Los datos serán recogidos mediante la API de SpaceX y nos aseguraremos de que siguen un formato adecuado para las fases siguientes. El siguiente es un ejemplo de un aterrizaje exitoso: "
      ]
    },
    {
      "metadata": {
        "id": "8K2QQjw_Ny3k"
      },
      "cell_type": "markdown",
      "source": [
        "![](https://cf-courses-data.s3.us.cloud-object-storage.appdomain.cloud/IBMDeveloperSkillsNetwork-DS0701EN-SkillsNetwork/lab_v2/images/landing\\_1.gif)\n"
      ]
    },
    {
      "metadata": {
        "id": "827rEQ4ANy3k"
      },
      "cell_type": "markdown",
      "source": [
        "Aquí puedes ver varios ejemplos de aterrizajes fallidos:\n",
        "\n",
        "\n"
      ]
    },
    {
      "metadata": {
        "id": "yaJaskEBNy3l"
      },
      "cell_type": "markdown",
      "source": [
        "![](https://cf-courses-data.s3.us.cloud-object-storage.appdomain.cloud/IBMDeveloperSkillsNetwork-DS0701EN-SkillsNetwork/lab_v2/images/crash.gif)\n"
      ]
    },
    {
      "metadata": {
        "id": "aKPpxbD5Ny3m"
      },
      "cell_type": "markdown",
      "source": [
        "La gran mayoría de aterrizajes fallidos son intencionados para la realización de diversos controles. Estos aterrizajes se llevan a cabo la mayoria en el oceano, veremos estadísticas al respecto."
      ]
    },
    {
      "metadata": {
        "id": "Vcv8SN7ENy3n"
      },
      "cell_type": "markdown",
      "source": [
        "## Objetivos\n"
      ]
    },
    {
      "metadata": {
        "id": "YppTIyv9Ny3o"
      },
      "cell_type": "markdown",
      "source": [
        "\n",
        "En esta práctica realizaras una GET request a la API de SpaceX. Tambien realizarás cierto data wrangling básico y limpieza de datos."
      ]
    },
    {
      "metadata": {
        "id": "JT_5RlGFNy3o"
      },
      "cell_type": "markdown",
      "source": [
        "***\n"
      ]
    },
    {
      "metadata": {
        "id": "sw6dmnVYNy3o"
      },
      "cell_type": "markdown",
      "source": [
        "## Importación de librerias."
      ]
    },
    {
      "metadata": {
        "id": "amW3fXxeNy3p"
      },
      "cell_type": "markdown",
      "source": [
        "Nos importamos las siguientes librerías necesarias para el desarrollo de la práctica. "
      ]
    },
    {
      "metadata": {
        "id": "K4X-y0fkNy3p"
      },
      "cell_type": "code",
      "source": [
        "import requests\n",
        "import pandas as pd\n",
        "import numpy as np\n",
        "import datetime\n",
        "\n",
        "pd.set_option('display.max_columns', None)\n",
        "pd.set_option('display.max_colwidth', None)\n",
        "#Las opciones anteriores aseguran que pandas muestre el df completo en jupyternotebooks"
      ],
      "execution_count": null,
      "outputs": []
    },
    {
      "metadata": {
        "id": "hfdUiepTNy3x"
      },
      "cell_type": "markdown",
      "source": [
        "Realicemos ahora una petición GET a la API de SpaceX. La URL es la siguiente.\n"
      ]
    },
    {
      "metadata": {
        "id": "SFxNryIENy3y"
      },
      "cell_type": "code",
      "source": [
        "spacex_url=\"https://api.spacexdata.com/v4/launches/past\""
      ],
      "execution_count": null,
      "outputs": []
    },
    {
      "cell_type": "markdown",
      "source": [
        "* Usando la librería requests usa el método GET y pasale como argumento URL anterior, guardala en una variable `response`  y realiza el print de `response.content`"
      ],
      "metadata": {
        "id": "DMG8sVucmN8p"
      }
    },
    {
      "metadata": {
        "id": "xwE5uBoDNy3y"
      },
      "cell_type": "code",
      "source": [
        "#INSERTA AQUÍ TU CÓDIGO\n",
        "#requests.TIPODEPETICIÓN(URL)\n",
        "response = requests.get(spacex_url)\n",
        "response.content\n",
        "#print(response)"
      ],
      "execution_count": null,
      "outputs": []
    },
    {
      "cell_type": "markdown",
      "source": [
        "Si la petición ha sido realizada correctamente el resultado del print debería ser similar al siguiente:\n",
        "\n",
        "\n",
        "```\n",
        "b'[{\"fairings\":{\"reused\":false,\"recovery_attempt\":false,\"recovered\":false, ...\n",
        "```\n",
        "(Recomendamos cerrar el resultado del print después de revisarlo para que google collab no sufra.)"
      ],
      "metadata": {
        "id": "Omo1_MVfmew3"
      }
    },
    {
      "metadata": {
        "id": "n_bBCProNy30"
      },
      "cell_type": "markdown",
      "source": [
        "Nuestra variable `response` contiene una grandísima cantidad de información sobre los SpaceX pero vamos a intentar formatearla para poder ver de que se trata exactamente y que nos interesa.\n"
      ]
    },
    {
      "metadata": {
        "id": "1VWLF1-5Ny31"
      },
      "cell_type": "markdown",
      "source": [
        "### Parte 1: Obtén los datos mediante peticiones GET y crea un dataframe"
      ]
    },
    {
      "metadata": {
        "id": "My3-5FEmNy33"
      },
      "cell_type": "markdown",
      "source": [
        "Hemos observado que la variable `response` tiene forma de diccionario (como la mayoría de respuestas a peticiones GET). Una forma efectiva de formatear dichos datos es transformarlos en un JSON y posteriormente en un dataframe de python:\n"
      ]
    },
    {
      "metadata": {
        "id": "oGD9a78VNy35"
      },
      "cell_type": "code",
      "source": [
        "data=response.json()\n",
        "data=pd.json_normalize(data)"
      ],
      "execution_count": null,
      "outputs": []
    },
    {
      "metadata": {
        "id": "v4HqZx6mNy36"
      },
      "cell_type": "markdown",
      "source": [
        "*Utilizando el dataframe anterior muestra las 5 primeras filas*"
      ]
    },
    {
      "metadata": {
        "id": "VFX1_hEcNy36",
        "colab": {
          "base_uri": "https://localhost:8080/"
        },
        "outputId": "ee24acc3-f917-4f76-85e6-9194434f1183"
      },
      "cell_type": "code",
      "source": [
        "#INSERTA AQUÍ TU CÓDIGO\n",
        "data.head(5)\n",
        "#data.info()\n",
        "print(\"Type:\", type(data))"
      ],
      "execution_count": null,
      "outputs": [
        {
          "output_type": "stream",
          "name": "stdout",
          "text": [
            "Type: <class 'pandas.core.frame.DataFrame'>\n"
          ]
        }
      ]
    },
    {
      "metadata": {
        "id": "WqNLLB7LNy37"
      },
      "cell_type": "markdown",
      "source": [
        "Observemos que la mayoría de datos interesantes no se muestran de forma explícita sino que son IDs. Estos IDs nos permiten obtener mas información haciendo pediciones GET a diferentes endpoints de la API.\n",
        "Para mas infrmación: https://docs.spacexdata.com/\n",
        "\n",
        "Revisando la documentación de la API nos hemos dado cuenta de que no son necesarias todas las columnas, por lo que vamos a reducir nuestro dataframe a lo crucial:"
      ]
    },
    {
      "cell_type": "code",
      "source": [
        "#Reescribe el dataframe para quedarnos solo con las columnas'rocket', 'payloads','success', 'launchpad', 'cores', 'flight_number', 'date_utc'\n",
        "#INSERTA AQUÍ TU CÓDIGO:\n",
        "data = data[['rocket','payloads', 'success', 'launchpad', 'cores', 'flight_number', 'date_utc']].copy()\n",
        "data.head(5)"
      ],
      "metadata": {
        "id": "pX7iLAap0rTy",
        "colab": {
          "base_uri": "https://localhost:8080/",
          "height": 877
        },
        "outputId": "c63b9617-6e65-4816-8c65-1fdd483aa313"
      },
      "execution_count": null,
      "outputs": [
        {
          "output_type": "execute_result",
          "data": {
            "text/plain": [
              "                     rocket  \\\n",
              "0  5e9d0d95eda69955f709d1eb   \n",
              "1  5e9d0d95eda69955f709d1eb   \n",
              "2  5e9d0d95eda69955f709d1eb   \n",
              "3  5e9d0d95eda69955f709d1eb   \n",
              "4  5e9d0d95eda69955f709d1eb   \n",
              "\n",
              "                                               payloads success  \\\n",
              "0                            [5eb0e4b5b6c3bb0006eeb1e1]   False   \n",
              "1                            [5eb0e4b6b6c3bb0006eeb1e2]   False   \n",
              "2  [5eb0e4b6b6c3bb0006eeb1e3, 5eb0e4b6b6c3bb0006eeb1e4]   False   \n",
              "3                            [5eb0e4b7b6c3bb0006eeb1e5]    True   \n",
              "4                            [5eb0e4b7b6c3bb0006eeb1e6]    True   \n",
              "\n",
              "                  launchpad  \\\n",
              "0  5e9e4502f5090995de566f86   \n",
              "1  5e9e4502f5090995de566f86   \n",
              "2  5e9e4502f5090995de566f86   \n",
              "3  5e9e4502f5090995de566f86   \n",
              "4  5e9e4502f5090995de566f86   \n",
              "\n",
              "                                                                                                                                                                                              cores  \\\n",
              "0  [{'core': '5e9e289df35918033d3b2623', 'flight': 1, 'gridfins': False, 'legs': False, 'reused': False, 'landing_attempt': False, 'landing_success': None, 'landing_type': None, 'landpad': None}]   \n",
              "1  [{'core': '5e9e289ef35918416a3b2624', 'flight': 1, 'gridfins': False, 'legs': False, 'reused': False, 'landing_attempt': False, 'landing_success': None, 'landing_type': None, 'landpad': None}]   \n",
              "2  [{'core': '5e9e289ef3591814873b2625', 'flight': 1, 'gridfins': False, 'legs': False, 'reused': False, 'landing_attempt': False, 'landing_success': None, 'landing_type': None, 'landpad': None}]   \n",
              "3  [{'core': '5e9e289ef3591855dc3b2626', 'flight': 1, 'gridfins': False, 'legs': False, 'reused': False, 'landing_attempt': False, 'landing_success': None, 'landing_type': None, 'landpad': None}]   \n",
              "4  [{'core': '5e9e289ef359184f103b2627', 'flight': 1, 'gridfins': False, 'legs': False, 'reused': False, 'landing_attempt': False, 'landing_success': None, 'landing_type': None, 'landpad': None}]   \n",
              "\n",
              "   flight_number                  date_utc  \n",
              "0              1  2006-03-24T22:30:00.000Z  \n",
              "1              2  2007-03-21T01:10:00.000Z  \n",
              "2              3  2008-08-03T03:34:00.000Z  \n",
              "3              4  2008-09-28T23:15:00.000Z  \n",
              "4              5  2009-07-13T03:35:00.000Z  "
            ],
            "text/html": [
              "\n",
              "  <div id=\"df-801466e0-011d-4baa-9aee-0b79bf25c8ee\">\n",
              "    <div class=\"colab-df-container\">\n",
              "      <div>\n",
              "<style scoped>\n",
              "    .dataframe tbody tr th:only-of-type {\n",
              "        vertical-align: middle;\n",
              "    }\n",
              "\n",
              "    .dataframe tbody tr th {\n",
              "        vertical-align: top;\n",
              "    }\n",
              "\n",
              "    .dataframe thead th {\n",
              "        text-align: right;\n",
              "    }\n",
              "</style>\n",
              "<table border=\"1\" class=\"dataframe\">\n",
              "  <thead>\n",
              "    <tr style=\"text-align: right;\">\n",
              "      <th></th>\n",
              "      <th>rocket</th>\n",
              "      <th>payloads</th>\n",
              "      <th>success</th>\n",
              "      <th>launchpad</th>\n",
              "      <th>cores</th>\n",
              "      <th>flight_number</th>\n",
              "      <th>date_utc</th>\n",
              "    </tr>\n",
              "  </thead>\n",
              "  <tbody>\n",
              "    <tr>\n",
              "      <th>0</th>\n",
              "      <td>5e9d0d95eda69955f709d1eb</td>\n",
              "      <td>[5eb0e4b5b6c3bb0006eeb1e1]</td>\n",
              "      <td>False</td>\n",
              "      <td>5e9e4502f5090995de566f86</td>\n",
              "      <td>[{'core': '5e9e289df35918033d3b2623', 'flight': 1, 'gridfins': False, 'legs': False, 'reused': False, 'landing_attempt': False, 'landing_success': None, 'landing_type': None, 'landpad': None}]</td>\n",
              "      <td>1</td>\n",
              "      <td>2006-03-24T22:30:00.000Z</td>\n",
              "    </tr>\n",
              "    <tr>\n",
              "      <th>1</th>\n",
              "      <td>5e9d0d95eda69955f709d1eb</td>\n",
              "      <td>[5eb0e4b6b6c3bb0006eeb1e2]</td>\n",
              "      <td>False</td>\n",
              "      <td>5e9e4502f5090995de566f86</td>\n",
              "      <td>[{'core': '5e9e289ef35918416a3b2624', 'flight': 1, 'gridfins': False, 'legs': False, 'reused': False, 'landing_attempt': False, 'landing_success': None, 'landing_type': None, 'landpad': None}]</td>\n",
              "      <td>2</td>\n",
              "      <td>2007-03-21T01:10:00.000Z</td>\n",
              "    </tr>\n",
              "    <tr>\n",
              "      <th>2</th>\n",
              "      <td>5e9d0d95eda69955f709d1eb</td>\n",
              "      <td>[5eb0e4b6b6c3bb0006eeb1e3, 5eb0e4b6b6c3bb0006eeb1e4]</td>\n",
              "      <td>False</td>\n",
              "      <td>5e9e4502f5090995de566f86</td>\n",
              "      <td>[{'core': '5e9e289ef3591814873b2625', 'flight': 1, 'gridfins': False, 'legs': False, 'reused': False, 'landing_attempt': False, 'landing_success': None, 'landing_type': None, 'landpad': None}]</td>\n",
              "      <td>3</td>\n",
              "      <td>2008-08-03T03:34:00.000Z</td>\n",
              "    </tr>\n",
              "    <tr>\n",
              "      <th>3</th>\n",
              "      <td>5e9d0d95eda69955f709d1eb</td>\n",
              "      <td>[5eb0e4b7b6c3bb0006eeb1e5]</td>\n",
              "      <td>True</td>\n",
              "      <td>5e9e4502f5090995de566f86</td>\n",
              "      <td>[{'core': '5e9e289ef3591855dc3b2626', 'flight': 1, 'gridfins': False, 'legs': False, 'reused': False, 'landing_attempt': False, 'landing_success': None, 'landing_type': None, 'landpad': None}]</td>\n",
              "      <td>4</td>\n",
              "      <td>2008-09-28T23:15:00.000Z</td>\n",
              "    </tr>\n",
              "    <tr>\n",
              "      <th>4</th>\n",
              "      <td>5e9d0d95eda69955f709d1eb</td>\n",
              "      <td>[5eb0e4b7b6c3bb0006eeb1e6]</td>\n",
              "      <td>True</td>\n",
              "      <td>5e9e4502f5090995de566f86</td>\n",
              "      <td>[{'core': '5e9e289ef359184f103b2627', 'flight': 1, 'gridfins': False, 'legs': False, 'reused': False, 'landing_attempt': False, 'landing_success': None, 'landing_type': None, 'landpad': None}]</td>\n",
              "      <td>5</td>\n",
              "      <td>2009-07-13T03:35:00.000Z</td>\n",
              "    </tr>\n",
              "  </tbody>\n",
              "</table>\n",
              "</div>\n",
              "      <button class=\"colab-df-convert\" onclick=\"convertToInteractive('df-801466e0-011d-4baa-9aee-0b79bf25c8ee')\"\n",
              "              title=\"Convert this dataframe to an interactive table.\"\n",
              "              style=\"display:none;\">\n",
              "        \n",
              "  <svg xmlns=\"http://www.w3.org/2000/svg\" height=\"24px\"viewBox=\"0 0 24 24\"\n",
              "       width=\"24px\">\n",
              "    <path d=\"M0 0h24v24H0V0z\" fill=\"none\"/>\n",
              "    <path d=\"M18.56 5.44l.94 2.06.94-2.06 2.06-.94-2.06-.94-.94-2.06-.94 2.06-2.06.94zm-11 1L8.5 8.5l.94-2.06 2.06-.94-2.06-.94L8.5 2.5l-.94 2.06-2.06.94zm10 10l.94 2.06.94-2.06 2.06-.94-2.06-.94-.94-2.06-.94 2.06-2.06.94z\"/><path d=\"M17.41 7.96l-1.37-1.37c-.4-.4-.92-.59-1.43-.59-.52 0-1.04.2-1.43.59L10.3 9.45l-7.72 7.72c-.78.78-.78 2.05 0 2.83L4 21.41c.39.39.9.59 1.41.59.51 0 1.02-.2 1.41-.59l7.78-7.78 2.81-2.81c.8-.78.8-2.07 0-2.86zM5.41 20L4 18.59l7.72-7.72 1.47 1.35L5.41 20z\"/>\n",
              "  </svg>\n",
              "      </button>\n",
              "      \n",
              "  <style>\n",
              "    .colab-df-container {\n",
              "      display:flex;\n",
              "      flex-wrap:wrap;\n",
              "      gap: 12px;\n",
              "    }\n",
              "\n",
              "    .colab-df-convert {\n",
              "      background-color: #E8F0FE;\n",
              "      border: none;\n",
              "      border-radius: 50%;\n",
              "      cursor: pointer;\n",
              "      display: none;\n",
              "      fill: #1967D2;\n",
              "      height: 32px;\n",
              "      padding: 0 0 0 0;\n",
              "      width: 32px;\n",
              "    }\n",
              "\n",
              "    .colab-df-convert:hover {\n",
              "      background-color: #E2EBFA;\n",
              "      box-shadow: 0px 1px 2px rgba(60, 64, 67, 0.3), 0px 1px 3px 1px rgba(60, 64, 67, 0.15);\n",
              "      fill: #174EA6;\n",
              "    }\n",
              "\n",
              "    [theme=dark] .colab-df-convert {\n",
              "      background-color: #3B4455;\n",
              "      fill: #D2E3FC;\n",
              "    }\n",
              "\n",
              "    [theme=dark] .colab-df-convert:hover {\n",
              "      background-color: #434B5C;\n",
              "      box-shadow: 0px 1px 3px 1px rgba(0, 0, 0, 0.15);\n",
              "      filter: drop-shadow(0px 1px 2px rgba(0, 0, 0, 0.3));\n",
              "      fill: #FFFFFF;\n",
              "    }\n",
              "  </style>\n",
              "\n",
              "      <script>\n",
              "        const buttonEl =\n",
              "          document.querySelector('#df-801466e0-011d-4baa-9aee-0b79bf25c8ee button.colab-df-convert');\n",
              "        buttonEl.style.display =\n",
              "          google.colab.kernel.accessAllowed ? 'block' : 'none';\n",
              "\n",
              "        async function convertToInteractive(key) {\n",
              "          const element = document.querySelector('#df-801466e0-011d-4baa-9aee-0b79bf25c8ee');\n",
              "          const dataTable =\n",
              "            await google.colab.kernel.invokeFunction('convertToInteractive',\n",
              "                                                     [key], {});\n",
              "          if (!dataTable) return;\n",
              "\n",
              "          const docLinkHtml = 'Like what you see? Visit the ' +\n",
              "            '<a target=\"_blank\" href=https://colab.research.google.com/notebooks/data_table.ipynb>data table notebook</a>'\n",
              "            + ' to learn more about interactive tables.';\n",
              "          element.innerHTML = '';\n",
              "          dataTable['output_type'] = 'display_data';\n",
              "          await google.colab.output.renderOutput(dataTable, element);\n",
              "          const docLink = document.createElement('div');\n",
              "          docLink.innerHTML = docLinkHtml;\n",
              "          element.appendChild(docLink);\n",
              "        }\n",
              "      </script>\n",
              "    </div>\n",
              "  </div>\n",
              "  "
            ]
          },
          "metadata": {},
          "execution_count": 6
        }
      ]
    },
    {
      "cell_type": "code",
      "source": [
        "data.head(5)"
      ],
      "metadata": {
        "colab": {
          "base_uri": "https://localhost:8080/",
          "height": 510
        },
        "id": "KxMsxzO2XFJF",
        "outputId": "3b75eaab-d8fd-4104-abaa-bd71e74ad24a"
      },
      "execution_count": null,
      "outputs": [
        {
          "output_type": "execute_result",
          "data": {
            "text/plain": [
              "                     rocket                    payloads success  \\\n",
              "0  5e9d0d95eda69955f709d1eb  [5eb0e4b5b6c3bb0006eeb1e1]   False   \n",
              "1  5e9d0d95eda69955f709d1eb  [5eb0e4b6b6c3bb0006eeb1e2]   False   \n",
              "3  5e9d0d95eda69955f709d1eb  [5eb0e4b7b6c3bb0006eeb1e5]    True   \n",
              "4  5e9d0d95eda69955f709d1eb  [5eb0e4b7b6c3bb0006eeb1e6]    True   \n",
              "5  5e9d0d95eda69973a809d1ec  [5eb0e4b7b6c3bb0006eeb1e7]    True   \n",
              "\n",
              "                  launchpad  \\\n",
              "0  5e9e4502f5090995de566f86   \n",
              "1  5e9e4502f5090995de566f86   \n",
              "3  5e9e4502f5090995de566f86   \n",
              "4  5e9e4502f5090995de566f86   \n",
              "5  5e9e4501f509094ba4566f84   \n",
              "\n",
              "                                                                                                                                                                                              cores  \\\n",
              "0  [{'core': '5e9e289df35918033d3b2623', 'flight': 1, 'gridfins': False, 'legs': False, 'reused': False, 'landing_attempt': False, 'landing_success': None, 'landing_type': None, 'landpad': None}]   \n",
              "1  [{'core': '5e9e289ef35918416a3b2624', 'flight': 1, 'gridfins': False, 'legs': False, 'reused': False, 'landing_attempt': False, 'landing_success': None, 'landing_type': None, 'landpad': None}]   \n",
              "3  [{'core': '5e9e289ef3591855dc3b2626', 'flight': 1, 'gridfins': False, 'legs': False, 'reused': False, 'landing_attempt': False, 'landing_success': None, 'landing_type': None, 'landpad': None}]   \n",
              "4  [{'core': '5e9e289ef359184f103b2627', 'flight': 1, 'gridfins': False, 'legs': False, 'reused': False, 'landing_attempt': False, 'landing_success': None, 'landing_type': None, 'landpad': None}]   \n",
              "5  [{'core': '5e9e289ef359185f2b3b2628', 'flight': 1, 'gridfins': False, 'legs': False, 'reused': False, 'landing_attempt': False, 'landing_success': None, 'landing_type': None, 'landpad': None}]   \n",
              "\n",
              "   flight_number                  date_utc  \n",
              "0              1  2006-03-24T22:30:00.000Z  \n",
              "1              2  2007-03-21T01:10:00.000Z  \n",
              "3              4  2008-09-28T23:15:00.000Z  \n",
              "4              5  2009-07-13T03:35:00.000Z  \n",
              "5              6  2010-06-04T18:45:00.000Z  "
            ],
            "text/html": [
              "\n",
              "  <div id=\"df-46c6e0e5-137a-4114-84b0-b01ccb1aa15e\">\n",
              "    <div class=\"colab-df-container\">\n",
              "      <div>\n",
              "<style scoped>\n",
              "    .dataframe tbody tr th:only-of-type {\n",
              "        vertical-align: middle;\n",
              "    }\n",
              "\n",
              "    .dataframe tbody tr th {\n",
              "        vertical-align: top;\n",
              "    }\n",
              "\n",
              "    .dataframe thead th {\n",
              "        text-align: right;\n",
              "    }\n",
              "</style>\n",
              "<table border=\"1\" class=\"dataframe\">\n",
              "  <thead>\n",
              "    <tr style=\"text-align: right;\">\n",
              "      <th></th>\n",
              "      <th>rocket</th>\n",
              "      <th>payloads</th>\n",
              "      <th>success</th>\n",
              "      <th>launchpad</th>\n",
              "      <th>cores</th>\n",
              "      <th>flight_number</th>\n",
              "      <th>date_utc</th>\n",
              "    </tr>\n",
              "  </thead>\n",
              "  <tbody>\n",
              "    <tr>\n",
              "      <th>0</th>\n",
              "      <td>5e9d0d95eda69955f709d1eb</td>\n",
              "      <td>[5eb0e4b5b6c3bb0006eeb1e1]</td>\n",
              "      <td>False</td>\n",
              "      <td>5e9e4502f5090995de566f86</td>\n",
              "      <td>[{'core': '5e9e289df35918033d3b2623', 'flight': 1, 'gridfins': False, 'legs': False, 'reused': False, 'landing_attempt': False, 'landing_success': None, 'landing_type': None, 'landpad': None}]</td>\n",
              "      <td>1</td>\n",
              "      <td>2006-03-24T22:30:00.000Z</td>\n",
              "    </tr>\n",
              "    <tr>\n",
              "      <th>1</th>\n",
              "      <td>5e9d0d95eda69955f709d1eb</td>\n",
              "      <td>[5eb0e4b6b6c3bb0006eeb1e2]</td>\n",
              "      <td>False</td>\n",
              "      <td>5e9e4502f5090995de566f86</td>\n",
              "      <td>[{'core': '5e9e289ef35918416a3b2624', 'flight': 1, 'gridfins': False, 'legs': False, 'reused': False, 'landing_attempt': False, 'landing_success': None, 'landing_type': None, 'landpad': None}]</td>\n",
              "      <td>2</td>\n",
              "      <td>2007-03-21T01:10:00.000Z</td>\n",
              "    </tr>\n",
              "    <tr>\n",
              "      <th>3</th>\n",
              "      <td>5e9d0d95eda69955f709d1eb</td>\n",
              "      <td>[5eb0e4b7b6c3bb0006eeb1e5]</td>\n",
              "      <td>True</td>\n",
              "      <td>5e9e4502f5090995de566f86</td>\n",
              "      <td>[{'core': '5e9e289ef3591855dc3b2626', 'flight': 1, 'gridfins': False, 'legs': False, 'reused': False, 'landing_attempt': False, 'landing_success': None, 'landing_type': None, 'landpad': None}]</td>\n",
              "      <td>4</td>\n",
              "      <td>2008-09-28T23:15:00.000Z</td>\n",
              "    </tr>\n",
              "    <tr>\n",
              "      <th>4</th>\n",
              "      <td>5e9d0d95eda69955f709d1eb</td>\n",
              "      <td>[5eb0e4b7b6c3bb0006eeb1e6]</td>\n",
              "      <td>True</td>\n",
              "      <td>5e9e4502f5090995de566f86</td>\n",
              "      <td>[{'core': '5e9e289ef359184f103b2627', 'flight': 1, 'gridfins': False, 'legs': False, 'reused': False, 'landing_attempt': False, 'landing_success': None, 'landing_type': None, 'landpad': None}]</td>\n",
              "      <td>5</td>\n",
              "      <td>2009-07-13T03:35:00.000Z</td>\n",
              "    </tr>\n",
              "    <tr>\n",
              "      <th>5</th>\n",
              "      <td>5e9d0d95eda69973a809d1ec</td>\n",
              "      <td>[5eb0e4b7b6c3bb0006eeb1e7]</td>\n",
              "      <td>True</td>\n",
              "      <td>5e9e4501f509094ba4566f84</td>\n",
              "      <td>[{'core': '5e9e289ef359185f2b3b2628', 'flight': 1, 'gridfins': False, 'legs': False, 'reused': False, 'landing_attempt': False, 'landing_success': None, 'landing_type': None, 'landpad': None}]</td>\n",
              "      <td>6</td>\n",
              "      <td>2010-06-04T18:45:00.000Z</td>\n",
              "    </tr>\n",
              "  </tbody>\n",
              "</table>\n",
              "</div>\n",
              "      <button class=\"colab-df-convert\" onclick=\"convertToInteractive('df-46c6e0e5-137a-4114-84b0-b01ccb1aa15e')\"\n",
              "              title=\"Convert this dataframe to an interactive table.\"\n",
              "              style=\"display:none;\">\n",
              "        \n",
              "  <svg xmlns=\"http://www.w3.org/2000/svg\" height=\"24px\"viewBox=\"0 0 24 24\"\n",
              "       width=\"24px\">\n",
              "    <path d=\"M0 0h24v24H0V0z\" fill=\"none\"/>\n",
              "    <path d=\"M18.56 5.44l.94 2.06.94-2.06 2.06-.94-2.06-.94-.94-2.06-.94 2.06-2.06.94zm-11 1L8.5 8.5l.94-2.06 2.06-.94-2.06-.94L8.5 2.5l-.94 2.06-2.06.94zm10 10l.94 2.06.94-2.06 2.06-.94-2.06-.94-.94-2.06-.94 2.06-2.06.94z\"/><path d=\"M17.41 7.96l-1.37-1.37c-.4-.4-.92-.59-1.43-.59-.52 0-1.04.2-1.43.59L10.3 9.45l-7.72 7.72c-.78.78-.78 2.05 0 2.83L4 21.41c.39.39.9.59 1.41.59.51 0 1.02-.2 1.41-.59l7.78-7.78 2.81-2.81c.8-.78.8-2.07 0-2.86zM5.41 20L4 18.59l7.72-7.72 1.47 1.35L5.41 20z\"/>\n",
              "  </svg>\n",
              "      </button>\n",
              "      \n",
              "  <style>\n",
              "    .colab-df-container {\n",
              "      display:flex;\n",
              "      flex-wrap:wrap;\n",
              "      gap: 12px;\n",
              "    }\n",
              "\n",
              "    .colab-df-convert {\n",
              "      background-color: #E8F0FE;\n",
              "      border: none;\n",
              "      border-radius: 50%;\n",
              "      cursor: pointer;\n",
              "      display: none;\n",
              "      fill: #1967D2;\n",
              "      height: 32px;\n",
              "      padding: 0 0 0 0;\n",
              "      width: 32px;\n",
              "    }\n",
              "\n",
              "    .colab-df-convert:hover {\n",
              "      background-color: #E2EBFA;\n",
              "      box-shadow: 0px 1px 2px rgba(60, 64, 67, 0.3), 0px 1px 3px 1px rgba(60, 64, 67, 0.15);\n",
              "      fill: #174EA6;\n",
              "    }\n",
              "\n",
              "    [theme=dark] .colab-df-convert {\n",
              "      background-color: #3B4455;\n",
              "      fill: #D2E3FC;\n",
              "    }\n",
              "\n",
              "    [theme=dark] .colab-df-convert:hover {\n",
              "      background-color: #434B5C;\n",
              "      box-shadow: 0px 1px 3px 1px rgba(0, 0, 0, 0.15);\n",
              "      filter: drop-shadow(0px 1px 2px rgba(0, 0, 0, 0.3));\n",
              "      fill: #FFFFFF;\n",
              "    }\n",
              "  </style>\n",
              "\n",
              "      <script>\n",
              "        const buttonEl =\n",
              "          document.querySelector('#df-46c6e0e5-137a-4114-84b0-b01ccb1aa15e button.colab-df-convert');\n",
              "        buttonEl.style.display =\n",
              "          google.colab.kernel.accessAllowed ? 'block' : 'none';\n",
              "\n",
              "        async function convertToInteractive(key) {\n",
              "          const element = document.querySelector('#df-46c6e0e5-137a-4114-84b0-b01ccb1aa15e');\n",
              "          const dataTable =\n",
              "            await google.colab.kernel.invokeFunction('convertToInteractive',\n",
              "                                                     [key], {});\n",
              "          if (!dataTable) return;\n",
              "\n",
              "          const docLinkHtml = 'Like what you see? Visit the ' +\n",
              "            '<a target=\"_blank\" href=https://colab.research.google.com/notebooks/data_table.ipynb>data table notebook</a>'\n",
              "            + ' to learn more about interactive tables.';\n",
              "          element.innerHTML = '';\n",
              "          dataTable['output_type'] = 'display_data';\n",
              "          await google.colab.output.renderOutput(dataTable, element);\n",
              "          const docLink = document.createElement('div');\n",
              "          docLink.innerHTML = docLinkHtml;\n",
              "          element.appendChild(docLink);\n",
              "        }\n",
              "      </script>\n",
              "    </div>\n",
              "  </div>\n",
              "  "
            ]
          },
          "metadata": {},
          "execution_count": 28
        }
      ]
    },
    {
      "metadata": {
        "id": "oN02t2WPNy37"
      },
      "cell_type": "code",
      "source": [
        "# Algunos cohetes tienen mas de una carga 'payload' o 'core'. \n",
        "# Estos datos nos darán problemas en un futuro, entonces nos limitearemos a aquellos que solamente tienen un core o una carga (payload):\n",
        "data = data[data['cores'].map(len)==1]\n",
        "#INSERTA AQUI TU CÓDIGO para payloads\n",
        "data = data[data['payloads'].map(len)==1]\n"
      ],
      "execution_count": null,
      "outputs": []
    },
    {
      "cell_type": "code",
      "source": [
        "data.head(5)"
      ],
      "metadata": {
        "colab": {
          "base_uri": "https://localhost:8080/",
          "height": 877
        },
        "id": "ba99FcwCX5QF",
        "outputId": "208f4902-4100-435c-996b-7cae4e6c8717"
      },
      "execution_count": null,
      "outputs": [
        {
          "output_type": "execute_result",
          "data": {
            "text/plain": [
              "                     rocket                  payloads success  \\\n",
              "0  5e9d0d95eda69955f709d1eb  5eb0e4b5b6c3bb0006eeb1e1   False   \n",
              "1  5e9d0d95eda69955f709d1eb  5eb0e4b6b6c3bb0006eeb1e2   False   \n",
              "3  5e9d0d95eda69955f709d1eb  5eb0e4b7b6c3bb0006eeb1e5    True   \n",
              "4  5e9d0d95eda69955f709d1eb  5eb0e4b7b6c3bb0006eeb1e6    True   \n",
              "5  5e9d0d95eda69973a809d1ec  5eb0e4b7b6c3bb0006eeb1e7    True   \n",
              "\n",
              "                  launchpad  \\\n",
              "0  5e9e4502f5090995de566f86   \n",
              "1  5e9e4502f5090995de566f86   \n",
              "3  5e9e4502f5090995de566f86   \n",
              "4  5e9e4502f5090995de566f86   \n",
              "5  5e9e4501f509094ba4566f84   \n",
              "\n",
              "                                                                                                                                                                                            cores  \\\n",
              "0  {'core': '5e9e289df35918033d3b2623', 'flight': 1, 'gridfins': False, 'legs': False, 'reused': False, 'landing_attempt': False, 'landing_success': None, 'landing_type': None, 'landpad': None}   \n",
              "1  {'core': '5e9e289ef35918416a3b2624', 'flight': 1, 'gridfins': False, 'legs': False, 'reused': False, 'landing_attempt': False, 'landing_success': None, 'landing_type': None, 'landpad': None}   \n",
              "3  {'core': '5e9e289ef3591855dc3b2626', 'flight': 1, 'gridfins': False, 'legs': False, 'reused': False, 'landing_attempt': False, 'landing_success': None, 'landing_type': None, 'landpad': None}   \n",
              "4  {'core': '5e9e289ef359184f103b2627', 'flight': 1, 'gridfins': False, 'legs': False, 'reused': False, 'landing_attempt': False, 'landing_success': None, 'landing_type': None, 'landpad': None}   \n",
              "5  {'core': '5e9e289ef359185f2b3b2628', 'flight': 1, 'gridfins': False, 'legs': False, 'reused': False, 'landing_attempt': False, 'landing_success': None, 'landing_type': None, 'landpad': None}   \n",
              "\n",
              "   flight_number                  date_utc        date  \n",
              "0              1  2006-03-24T22:30:00.000Z  2006-03-24  \n",
              "1              2  2007-03-21T01:10:00.000Z  2007-03-21  \n",
              "3              4  2008-09-28T23:15:00.000Z  2008-09-28  \n",
              "4              5  2009-07-13T03:35:00.000Z  2009-07-13  \n",
              "5              6  2010-06-04T18:45:00.000Z  2010-06-04  "
            ],
            "text/html": [
              "\n",
              "  <div id=\"df-b0105053-ab79-4a63-9d0e-cf883ee04a9b\">\n",
              "    <div class=\"colab-df-container\">\n",
              "      <div>\n",
              "<style scoped>\n",
              "    .dataframe tbody tr th:only-of-type {\n",
              "        vertical-align: middle;\n",
              "    }\n",
              "\n",
              "    .dataframe tbody tr th {\n",
              "        vertical-align: top;\n",
              "    }\n",
              "\n",
              "    .dataframe thead th {\n",
              "        text-align: right;\n",
              "    }\n",
              "</style>\n",
              "<table border=\"1\" class=\"dataframe\">\n",
              "  <thead>\n",
              "    <tr style=\"text-align: right;\">\n",
              "      <th></th>\n",
              "      <th>rocket</th>\n",
              "      <th>payloads</th>\n",
              "      <th>success</th>\n",
              "      <th>launchpad</th>\n",
              "      <th>cores</th>\n",
              "      <th>flight_number</th>\n",
              "      <th>date_utc</th>\n",
              "      <th>date</th>\n",
              "    </tr>\n",
              "  </thead>\n",
              "  <tbody>\n",
              "    <tr>\n",
              "      <th>0</th>\n",
              "      <td>5e9d0d95eda69955f709d1eb</td>\n",
              "      <td>5eb0e4b5b6c3bb0006eeb1e1</td>\n",
              "      <td>False</td>\n",
              "      <td>5e9e4502f5090995de566f86</td>\n",
              "      <td>{'core': '5e9e289df35918033d3b2623', 'flight': 1, 'gridfins': False, 'legs': False, 'reused': False, 'landing_attempt': False, 'landing_success': None, 'landing_type': None, 'landpad': None}</td>\n",
              "      <td>1</td>\n",
              "      <td>2006-03-24T22:30:00.000Z</td>\n",
              "      <td>2006-03-24</td>\n",
              "    </tr>\n",
              "    <tr>\n",
              "      <th>1</th>\n",
              "      <td>5e9d0d95eda69955f709d1eb</td>\n",
              "      <td>5eb0e4b6b6c3bb0006eeb1e2</td>\n",
              "      <td>False</td>\n",
              "      <td>5e9e4502f5090995de566f86</td>\n",
              "      <td>{'core': '5e9e289ef35918416a3b2624', 'flight': 1, 'gridfins': False, 'legs': False, 'reused': False, 'landing_attempt': False, 'landing_success': None, 'landing_type': None, 'landpad': None}</td>\n",
              "      <td>2</td>\n",
              "      <td>2007-03-21T01:10:00.000Z</td>\n",
              "      <td>2007-03-21</td>\n",
              "    </tr>\n",
              "    <tr>\n",
              "      <th>3</th>\n",
              "      <td>5e9d0d95eda69955f709d1eb</td>\n",
              "      <td>5eb0e4b7b6c3bb0006eeb1e5</td>\n",
              "      <td>True</td>\n",
              "      <td>5e9e4502f5090995de566f86</td>\n",
              "      <td>{'core': '5e9e289ef3591855dc3b2626', 'flight': 1, 'gridfins': False, 'legs': False, 'reused': False, 'landing_attempt': False, 'landing_success': None, 'landing_type': None, 'landpad': None}</td>\n",
              "      <td>4</td>\n",
              "      <td>2008-09-28T23:15:00.000Z</td>\n",
              "      <td>2008-09-28</td>\n",
              "    </tr>\n",
              "    <tr>\n",
              "      <th>4</th>\n",
              "      <td>5e9d0d95eda69955f709d1eb</td>\n",
              "      <td>5eb0e4b7b6c3bb0006eeb1e6</td>\n",
              "      <td>True</td>\n",
              "      <td>5e9e4502f5090995de566f86</td>\n",
              "      <td>{'core': '5e9e289ef359184f103b2627', 'flight': 1, 'gridfins': False, 'legs': False, 'reused': False, 'landing_attempt': False, 'landing_success': None, 'landing_type': None, 'landpad': None}</td>\n",
              "      <td>5</td>\n",
              "      <td>2009-07-13T03:35:00.000Z</td>\n",
              "      <td>2009-07-13</td>\n",
              "    </tr>\n",
              "    <tr>\n",
              "      <th>5</th>\n",
              "      <td>5e9d0d95eda69973a809d1ec</td>\n",
              "      <td>5eb0e4b7b6c3bb0006eeb1e7</td>\n",
              "      <td>True</td>\n",
              "      <td>5e9e4501f509094ba4566f84</td>\n",
              "      <td>{'core': '5e9e289ef359185f2b3b2628', 'flight': 1, 'gridfins': False, 'legs': False, 'reused': False, 'landing_attempt': False, 'landing_success': None, 'landing_type': None, 'landpad': None}</td>\n",
              "      <td>6</td>\n",
              "      <td>2010-06-04T18:45:00.000Z</td>\n",
              "      <td>2010-06-04</td>\n",
              "    </tr>\n",
              "  </tbody>\n",
              "</table>\n",
              "</div>\n",
              "      <button class=\"colab-df-convert\" onclick=\"convertToInteractive('df-b0105053-ab79-4a63-9d0e-cf883ee04a9b')\"\n",
              "              title=\"Convert this dataframe to an interactive table.\"\n",
              "              style=\"display:none;\">\n",
              "        \n",
              "  <svg xmlns=\"http://www.w3.org/2000/svg\" height=\"24px\"viewBox=\"0 0 24 24\"\n",
              "       width=\"24px\">\n",
              "    <path d=\"M0 0h24v24H0V0z\" fill=\"none\"/>\n",
              "    <path d=\"M18.56 5.44l.94 2.06.94-2.06 2.06-.94-2.06-.94-.94-2.06-.94 2.06-2.06.94zm-11 1L8.5 8.5l.94-2.06 2.06-.94-2.06-.94L8.5 2.5l-.94 2.06-2.06.94zm10 10l.94 2.06.94-2.06 2.06-.94-2.06-.94-.94-2.06-.94 2.06-2.06.94z\"/><path d=\"M17.41 7.96l-1.37-1.37c-.4-.4-.92-.59-1.43-.59-.52 0-1.04.2-1.43.59L10.3 9.45l-7.72 7.72c-.78.78-.78 2.05 0 2.83L4 21.41c.39.39.9.59 1.41.59.51 0 1.02-.2 1.41-.59l7.78-7.78 2.81-2.81c.8-.78.8-2.07 0-2.86zM5.41 20L4 18.59l7.72-7.72 1.47 1.35L5.41 20z\"/>\n",
              "  </svg>\n",
              "      </button>\n",
              "      \n",
              "  <style>\n",
              "    .colab-df-container {\n",
              "      display:flex;\n",
              "      flex-wrap:wrap;\n",
              "      gap: 12px;\n",
              "    }\n",
              "\n",
              "    .colab-df-convert {\n",
              "      background-color: #E8F0FE;\n",
              "      border: none;\n",
              "      border-radius: 50%;\n",
              "      cursor: pointer;\n",
              "      display: none;\n",
              "      fill: #1967D2;\n",
              "      height: 32px;\n",
              "      padding: 0 0 0 0;\n",
              "      width: 32px;\n",
              "    }\n",
              "\n",
              "    .colab-df-convert:hover {\n",
              "      background-color: #E2EBFA;\n",
              "      box-shadow: 0px 1px 2px rgba(60, 64, 67, 0.3), 0px 1px 3px 1px rgba(60, 64, 67, 0.15);\n",
              "      fill: #174EA6;\n",
              "    }\n",
              "\n",
              "    [theme=dark] .colab-df-convert {\n",
              "      background-color: #3B4455;\n",
              "      fill: #D2E3FC;\n",
              "    }\n",
              "\n",
              "    [theme=dark] .colab-df-convert:hover {\n",
              "      background-color: #434B5C;\n",
              "      box-shadow: 0px 1px 3px 1px rgba(0, 0, 0, 0.15);\n",
              "      filter: drop-shadow(0px 1px 2px rgba(0, 0, 0, 0.3));\n",
              "      fill: #FFFFFF;\n",
              "    }\n",
              "  </style>\n",
              "\n",
              "      <script>\n",
              "        const buttonEl =\n",
              "          document.querySelector('#df-b0105053-ab79-4a63-9d0e-cf883ee04a9b button.colab-df-convert');\n",
              "        buttonEl.style.display =\n",
              "          google.colab.kernel.accessAllowed ? 'block' : 'none';\n",
              "\n",
              "        async function convertToInteractive(key) {\n",
              "          const element = document.querySelector('#df-b0105053-ab79-4a63-9d0e-cf883ee04a9b');\n",
              "          const dataTable =\n",
              "            await google.colab.kernel.invokeFunction('convertToInteractive',\n",
              "                                                     [key], {});\n",
              "          if (!dataTable) return;\n",
              "\n",
              "          const docLinkHtml = 'Like what you see? Visit the ' +\n",
              "            '<a target=\"_blank\" href=https://colab.research.google.com/notebooks/data_table.ipynb>data table notebook</a>'\n",
              "            + ' to learn more about interactive tables.';\n",
              "          element.innerHTML = '';\n",
              "          dataTable['output_type'] = 'display_data';\n",
              "          await google.colab.output.renderOutput(dataTable, element);\n",
              "          const docLink = document.createElement('div');\n",
              "          docLink.innerHTML = docLinkHtml;\n",
              "          element.appendChild(docLink);\n",
              "        }\n",
              "      </script>\n",
              "    </div>\n",
              "  </div>\n",
              "  "
            ]
          },
          "metadata": {},
          "execution_count": 11
        }
      ]
    },
    {
      "cell_type": "code",
      "source": [
        "# Otro problema que tenemos es que ahora tenemos listas de longitud 1. \n",
        "# Las listas de python no son especialmente compatibles con SQL por lo que lo solucionaremos sacando el valor de la lista:\n",
        "data['cores'] = data['cores'].map(lambda x : x[0])\n",
        "#INSERTA AQUI TU CÓDIGO para hacer lo mismo con la columna payloads\n",
        "data['payloads'] = data['payloads'].map(lambda x : x[0])\n"
      ],
      "metadata": {
        "id": "N1hVqKzH8ojf"
      },
      "execution_count": null,
      "outputs": []
    },
    {
      "cell_type": "code",
      "source": [
        "# El formato de la fecha no es especialmete cómodo por lo que lo formatearemos:\n",
        "data['date'] = pd.to_datetime(data['date_utc']).dt.date"
      ],
      "metadata": {
        "id": "Qyui0lml8qFy"
      },
      "execution_count": null,
      "outputs": []
    },
    {
      "cell_type": "code",
      "source": [
        "data.head(5)"
      ],
      "metadata": {
        "id": "THveCiGnrVFW",
        "outputId": "e87616ae-6655-4c4a-e840-6fd41a3159fe",
        "colab": {
          "base_uri": "https://localhost:8080/",
          "height": 877
        }
      },
      "execution_count": null,
      "outputs": [
        {
          "output_type": "execute_result",
          "data": {
            "text/plain": [
              "                     rocket                  payloads success  \\\n",
              "0  5e9d0d95eda69955f709d1eb  5eb0e4b5b6c3bb0006eeb1e1   False   \n",
              "1  5e9d0d95eda69955f709d1eb  5eb0e4b6b6c3bb0006eeb1e2   False   \n",
              "3  5e9d0d95eda69955f709d1eb  5eb0e4b7b6c3bb0006eeb1e5    True   \n",
              "4  5e9d0d95eda69955f709d1eb  5eb0e4b7b6c3bb0006eeb1e6    True   \n",
              "5  5e9d0d95eda69973a809d1ec  5eb0e4b7b6c3bb0006eeb1e7    True   \n",
              "\n",
              "                  launchpad  \\\n",
              "0  5e9e4502f5090995de566f86   \n",
              "1  5e9e4502f5090995de566f86   \n",
              "3  5e9e4502f5090995de566f86   \n",
              "4  5e9e4502f5090995de566f86   \n",
              "5  5e9e4501f509094ba4566f84   \n",
              "\n",
              "                                                                                                                                                                                            cores  \\\n",
              "0  {'core': '5e9e289df35918033d3b2623', 'flight': 1, 'gridfins': False, 'legs': False, 'reused': False, 'landing_attempt': False, 'landing_success': None, 'landing_type': None, 'landpad': None}   \n",
              "1  {'core': '5e9e289ef35918416a3b2624', 'flight': 1, 'gridfins': False, 'legs': False, 'reused': False, 'landing_attempt': False, 'landing_success': None, 'landing_type': None, 'landpad': None}   \n",
              "3  {'core': '5e9e289ef3591855dc3b2626', 'flight': 1, 'gridfins': False, 'legs': False, 'reused': False, 'landing_attempt': False, 'landing_success': None, 'landing_type': None, 'landpad': None}   \n",
              "4  {'core': '5e9e289ef359184f103b2627', 'flight': 1, 'gridfins': False, 'legs': False, 'reused': False, 'landing_attempt': False, 'landing_success': None, 'landing_type': None, 'landpad': None}   \n",
              "5  {'core': '5e9e289ef359185f2b3b2628', 'flight': 1, 'gridfins': False, 'legs': False, 'reused': False, 'landing_attempt': False, 'landing_success': None, 'landing_type': None, 'landpad': None}   \n",
              "\n",
              "   flight_number                  date_utc        date  \n",
              "0              1  2006-03-24T22:30:00.000Z  2006-03-24  \n",
              "1              2  2007-03-21T01:10:00.000Z  2007-03-21  \n",
              "3              4  2008-09-28T23:15:00.000Z  2008-09-28  \n",
              "4              5  2009-07-13T03:35:00.000Z  2009-07-13  \n",
              "5              6  2010-06-04T18:45:00.000Z  2010-06-04  "
            ],
            "text/html": [
              "\n",
              "  <div id=\"df-4c026b99-7c2b-4922-9ef8-0bb3dde5cbea\">\n",
              "    <div class=\"colab-df-container\">\n",
              "      <div>\n",
              "<style scoped>\n",
              "    .dataframe tbody tr th:only-of-type {\n",
              "        vertical-align: middle;\n",
              "    }\n",
              "\n",
              "    .dataframe tbody tr th {\n",
              "        vertical-align: top;\n",
              "    }\n",
              "\n",
              "    .dataframe thead th {\n",
              "        text-align: right;\n",
              "    }\n",
              "</style>\n",
              "<table border=\"1\" class=\"dataframe\">\n",
              "  <thead>\n",
              "    <tr style=\"text-align: right;\">\n",
              "      <th></th>\n",
              "      <th>rocket</th>\n",
              "      <th>payloads</th>\n",
              "      <th>success</th>\n",
              "      <th>launchpad</th>\n",
              "      <th>cores</th>\n",
              "      <th>flight_number</th>\n",
              "      <th>date_utc</th>\n",
              "      <th>date</th>\n",
              "    </tr>\n",
              "  </thead>\n",
              "  <tbody>\n",
              "    <tr>\n",
              "      <th>0</th>\n",
              "      <td>5e9d0d95eda69955f709d1eb</td>\n",
              "      <td>5eb0e4b5b6c3bb0006eeb1e1</td>\n",
              "      <td>False</td>\n",
              "      <td>5e9e4502f5090995de566f86</td>\n",
              "      <td>{'core': '5e9e289df35918033d3b2623', 'flight': 1, 'gridfins': False, 'legs': False, 'reused': False, 'landing_attempt': False, 'landing_success': None, 'landing_type': None, 'landpad': None}</td>\n",
              "      <td>1</td>\n",
              "      <td>2006-03-24T22:30:00.000Z</td>\n",
              "      <td>2006-03-24</td>\n",
              "    </tr>\n",
              "    <tr>\n",
              "      <th>1</th>\n",
              "      <td>5e9d0d95eda69955f709d1eb</td>\n",
              "      <td>5eb0e4b6b6c3bb0006eeb1e2</td>\n",
              "      <td>False</td>\n",
              "      <td>5e9e4502f5090995de566f86</td>\n",
              "      <td>{'core': '5e9e289ef35918416a3b2624', 'flight': 1, 'gridfins': False, 'legs': False, 'reused': False, 'landing_attempt': False, 'landing_success': None, 'landing_type': None, 'landpad': None}</td>\n",
              "      <td>2</td>\n",
              "      <td>2007-03-21T01:10:00.000Z</td>\n",
              "      <td>2007-03-21</td>\n",
              "    </tr>\n",
              "    <tr>\n",
              "      <th>3</th>\n",
              "      <td>5e9d0d95eda69955f709d1eb</td>\n",
              "      <td>5eb0e4b7b6c3bb0006eeb1e5</td>\n",
              "      <td>True</td>\n",
              "      <td>5e9e4502f5090995de566f86</td>\n",
              "      <td>{'core': '5e9e289ef3591855dc3b2626', 'flight': 1, 'gridfins': False, 'legs': False, 'reused': False, 'landing_attempt': False, 'landing_success': None, 'landing_type': None, 'landpad': None}</td>\n",
              "      <td>4</td>\n",
              "      <td>2008-09-28T23:15:00.000Z</td>\n",
              "      <td>2008-09-28</td>\n",
              "    </tr>\n",
              "    <tr>\n",
              "      <th>4</th>\n",
              "      <td>5e9d0d95eda69955f709d1eb</td>\n",
              "      <td>5eb0e4b7b6c3bb0006eeb1e6</td>\n",
              "      <td>True</td>\n",
              "      <td>5e9e4502f5090995de566f86</td>\n",
              "      <td>{'core': '5e9e289ef359184f103b2627', 'flight': 1, 'gridfins': False, 'legs': False, 'reused': False, 'landing_attempt': False, 'landing_success': None, 'landing_type': None, 'landpad': None}</td>\n",
              "      <td>5</td>\n",
              "      <td>2009-07-13T03:35:00.000Z</td>\n",
              "      <td>2009-07-13</td>\n",
              "    </tr>\n",
              "    <tr>\n",
              "      <th>5</th>\n",
              "      <td>5e9d0d95eda69973a809d1ec</td>\n",
              "      <td>5eb0e4b7b6c3bb0006eeb1e7</td>\n",
              "      <td>True</td>\n",
              "      <td>5e9e4501f509094ba4566f84</td>\n",
              "      <td>{'core': '5e9e289ef359185f2b3b2628', 'flight': 1, 'gridfins': False, 'legs': False, 'reused': False, 'landing_attempt': False, 'landing_success': None, 'landing_type': None, 'landpad': None}</td>\n",
              "      <td>6</td>\n",
              "      <td>2010-06-04T18:45:00.000Z</td>\n",
              "      <td>2010-06-04</td>\n",
              "    </tr>\n",
              "  </tbody>\n",
              "</table>\n",
              "</div>\n",
              "      <button class=\"colab-df-convert\" onclick=\"convertToInteractive('df-4c026b99-7c2b-4922-9ef8-0bb3dde5cbea')\"\n",
              "              title=\"Convert this dataframe to an interactive table.\"\n",
              "              style=\"display:none;\">\n",
              "        \n",
              "  <svg xmlns=\"http://www.w3.org/2000/svg\" height=\"24px\"viewBox=\"0 0 24 24\"\n",
              "       width=\"24px\">\n",
              "    <path d=\"M0 0h24v24H0V0z\" fill=\"none\"/>\n",
              "    <path d=\"M18.56 5.44l.94 2.06.94-2.06 2.06-.94-2.06-.94-.94-2.06-.94 2.06-2.06.94zm-11 1L8.5 8.5l.94-2.06 2.06-.94-2.06-.94L8.5 2.5l-.94 2.06-2.06.94zm10 10l.94 2.06.94-2.06 2.06-.94-2.06-.94-.94-2.06-.94 2.06-2.06.94z\"/><path d=\"M17.41 7.96l-1.37-1.37c-.4-.4-.92-.59-1.43-.59-.52 0-1.04.2-1.43.59L10.3 9.45l-7.72 7.72c-.78.78-.78 2.05 0 2.83L4 21.41c.39.39.9.59 1.41.59.51 0 1.02-.2 1.41-.59l7.78-7.78 2.81-2.81c.8-.78.8-2.07 0-2.86zM5.41 20L4 18.59l7.72-7.72 1.47 1.35L5.41 20z\"/>\n",
              "  </svg>\n",
              "      </button>\n",
              "      \n",
              "  <style>\n",
              "    .colab-df-container {\n",
              "      display:flex;\n",
              "      flex-wrap:wrap;\n",
              "      gap: 12px;\n",
              "    }\n",
              "\n",
              "    .colab-df-convert {\n",
              "      background-color: #E8F0FE;\n",
              "      border: none;\n",
              "      border-radius: 50%;\n",
              "      cursor: pointer;\n",
              "      display: none;\n",
              "      fill: #1967D2;\n",
              "      height: 32px;\n",
              "      padding: 0 0 0 0;\n",
              "      width: 32px;\n",
              "    }\n",
              "\n",
              "    .colab-df-convert:hover {\n",
              "      background-color: #E2EBFA;\n",
              "      box-shadow: 0px 1px 2px rgba(60, 64, 67, 0.3), 0px 1px 3px 1px rgba(60, 64, 67, 0.15);\n",
              "      fill: #174EA6;\n",
              "    }\n",
              "\n",
              "    [theme=dark] .colab-df-convert {\n",
              "      background-color: #3B4455;\n",
              "      fill: #D2E3FC;\n",
              "    }\n",
              "\n",
              "    [theme=dark] .colab-df-convert:hover {\n",
              "      background-color: #434B5C;\n",
              "      box-shadow: 0px 1px 3px 1px rgba(0, 0, 0, 0.15);\n",
              "      filter: drop-shadow(0px 1px 2px rgba(0, 0, 0, 0.3));\n",
              "      fill: #FFFFFF;\n",
              "    }\n",
              "  </style>\n",
              "\n",
              "      <script>\n",
              "        const buttonEl =\n",
              "          document.querySelector('#df-4c026b99-7c2b-4922-9ef8-0bb3dde5cbea button.colab-df-convert');\n",
              "        buttonEl.style.display =\n",
              "          google.colab.kernel.accessAllowed ? 'block' : 'none';\n",
              "\n",
              "        async function convertToInteractive(key) {\n",
              "          const element = document.querySelector('#df-4c026b99-7c2b-4922-9ef8-0bb3dde5cbea');\n",
              "          const dataTable =\n",
              "            await google.colab.kernel.invokeFunction('convertToInteractive',\n",
              "                                                     [key], {});\n",
              "          if (!dataTable) return;\n",
              "\n",
              "          const docLinkHtml = 'Like what you see? Visit the ' +\n",
              "            '<a target=\"_blank\" href=https://colab.research.google.com/notebooks/data_table.ipynb>data table notebook</a>'\n",
              "            + ' to learn more about interactive tables.';\n",
              "          element.innerHTML = '';\n",
              "          dataTable['output_type'] = 'display_data';\n",
              "          await google.colab.output.renderOutput(dataTable, element);\n",
              "          const docLink = document.createElement('div');\n",
              "          docLink.innerHTML = docLinkHtml;\n",
              "          element.appendChild(docLink);\n",
              "        }\n",
              "      </script>\n",
              "    </div>\n",
              "  </div>\n",
              "  "
            ]
          },
          "metadata": {},
          "execution_count": 12
        }
      ]
    },
    {
      "metadata": {
        "id": "yeX2LRjWNy38"
      },
      "cell_type": "markdown",
      "source": [
        "Si revisamos `rocket, payload,launchpad y cores` son IDs, estos IDs nos permiten hacer peticiones a diferetes endpoints y obtener más información. La información para cada variable se encuentra en los siguientes links:\n",
        "\n",
        "*   Para <code>rocket</code> https://github.com/r-spacex/SpaceX-API/blob/master/docs/rockets/v4/one.md . De aquí nos quedaremos la versión del cohete propulsor.\n",
        "\n",
        "*   Para <code>payload</code> https://github.com/r-spacex/SpaceX-API/blob/master/docs/payloads/v4/one.md . De aquí guardaremos la carga, la masa de esta carga, la orbita a la que fue enviada y el cliente.\n",
        "\n",
        "*   Para <code>launchpad</code> https://github.com/r-spacex/SpaceX-API/blob/master/docs/launchpads/v4/one.md . Guardamos la latitud, longitud y nombre de las diferentes plataformas de lanzamiento.\n",
        "\n",
        "*   Para <code>cores</code> https://github.com/r-spacex/SpaceX-API/blob/master/docs/cores/v4/one.md . Gaurdamos diferentes variables del nucleo.\n",
        "\n",
        "Los datos serán guardados en listas y estas listas las utilizaremos para crear una nuevo dataframe con todos los datos:\n",
        "\n"
      ]
    },
    {
      "cell_type": "code",
      "source": [
        "#booster = requests.get('https://api.spacexdata.com/v4/rockets/:id5e9d0d95eda69955f709d1eb').\n",
        "booster"
      ],
      "metadata": {
        "id": "-tyZ3_UvsteE",
        "outputId": "21459af7-9aca-42e5-cf46-bc155828d9bd",
        "colab": {
          "base_uri": "https://localhost:8080/"
        }
      },
      "execution_count": null,
      "outputs": [
        {
          "output_type": "execute_result",
          "data": {
            "text/plain": [
              "<Response [404]>"
            ]
          },
          "metadata": {},
          "execution_count": 18
        }
      ]
    },
    {
      "metadata": {
        "id": "_SHrBrLPNy39"
      },
      "cell_type": "code",
      "source": [
        "#Para rocket\n",
        "BoosterVersion = [] \n",
        "\n",
        "#Para paylaod\n",
        "PayloadMass = []\n",
        "Payload = []\n",
        "Orbit = []\n",
        "Customers= []\n",
        "\n",
        "#Para launchpad\n",
        "LaunchSite = []\n",
        "Longitude = []\n",
        "Latitude = []\n",
        "\n",
        "#Para core\n",
        "Outcome = []\n",
        "Flights = []\n",
        "GridFins = []\n",
        "Reused = []\n",
        "Legs = []\n",
        "LandingPad = []\n",
        "Block = []\n",
        "Mission_Outcome = []\n",
        "ReusedCount = []\n",
        "Serial = []\n"
      ],
      "execution_count": null,
      "outputs": []
    },
    {
      "metadata": {
        "id": "NaLZwWVcNy3r"
      },
      "cell_type": "markdown",
      "source": [
        "Para completar las listas anteriores nos definiremos una lista de funciones para facilitar la obtención de los datos.\n",
        "\n",
        "Empecemos con los cohetes:"
      ]
    },
    {
      "metadata": {
        "id": "vxSdTYpANy3s"
      },
      "cell_type": "code",
      "source": [
        "# DEFINICIÓN FUNCIÓN 1\n",
        "def getBoosterVersion(data): #Definimos la función\n",
        "    for x in data['rocket']: #Iteramos por cada fila de la columna rocket\n",
        "       if x: #Comprobamos que no este vacía\n",
        "        response = requests.get(\"https://api.spacexdata.com/v4/rockets/\"+str(x)) #Realizamos la petición GET (Aplicamos str() para poder concatenar)\n",
        "        response = response.json() #Transformamos la respuesta en un diccionario.\n",
        "        BoosterVersion.append(response['name']) #Añadimos a BoosterVersion el valor con key 'name'"
      ],
      "execution_count": null,
      "outputs": []
    },
    {
      "metadata": {
        "id": "qIIVTQ5yNy3s"
      },
      "cell_type": "markdown",
      "source": [
        "De <code>launchpad</code> nos gustaría quedarnos con la longitud, la latitud y el nombre de la plataforma\n"
      ]
    },
    {
      "metadata": {
        "id": "MJLCagcsNy3t"
      },
      "cell_type": "code",
      "source": [
        "# DEFINICIÓN FUNCIÓN 2\n",
        "#INSERTA AQUI TU CÓDIGO\n",
        "def getLaunchSite(data):\n",
        "  for x in data['launchpad']:\n",
        "    if x:\n",
        "      response = requests.get(\"https://api.spacexdata.com/v4/launchpads/\"+str(x))\n",
        "      response = response.json()\n",
        "      Longitude.append(response['longitude'])\n",
        "      Latitude.append(response['latitude'])\n",
        "      LaunchSite.append(response['name'])\n",
        "\n",
        "\n",
        "\n",
        "#Definimos la función getLaunchSite que recibe con argumento data\n",
        "#Iteramos por cada fila de la columna launchpad\n",
        "#Comprobamos que no este vacía\n",
        "#Realizamos la petición GET (Aplicamos str() para poder concatenar)\n",
        "#Transformamos la respuesta en un diccionario.\n",
        "#Añadimos a Longitude el valor con key 'longitude'\n",
        "#Añadimos a Latitude el valor con key 'latitude'\n",
        "#Añadimos a LaunchSite el valor con key 'name'"
      ],
      "execution_count": null,
      "outputs": []
    },
    {
      "metadata": {
        "id": "B1Oq9tGBNy3u"
      },
      "cell_type": "markdown",
      "source": [
        "De <code>payload</code> nos gustaría obtener la carga, el peso de la carga, el cliente y la órbita a la que fué enviada."
      ]
    },
    {
      "metadata": {
        "id": "yj7RSOYHNy3u"
      },
      "cell_type": "code",
      "source": [
        "# DEFINICIÓN FUNCIÓN 3\n",
        "#INSERTA AQUI TU CÓDIGO\n",
        "def getPayloadData(data):\n",
        "  for x in data['payloads']:\n",
        "    if x:\n",
        "      response = requests.get('https://api.spacexdata.com/v4/payloads/'+str(x))\n",
        "      response = response.json()\n",
        "      Payload.append(response['name'])\n",
        "      Customers.append(response['customers'])\n",
        "      PayloadMass.append(response['mass_kg'])\n",
        "      Orbit.append(response['orbit'])\n",
        "\n",
        "\n",
        "#Definimos la función getPayloadData\n",
        "#Iteramos por cada fila de la columna payloads\n",
        "#Comprobamos que no este vacía\n",
        "#Realizamos la petición GET (Aplicamos str() para poder concatenar)\n",
        "#Transformamos la respuesta en un diccionario.\n",
        "#Añadimos a Payload el valor con key 'name'\n",
        "#Añadimos a Customers el valor con key 'customers'\n",
        "#Añadimos a PayloadMass el valor con key 'mass_kg'\n",
        "#Añadimos a Orbit el valor con key 'orbit'"
      ],
      "execution_count": null,
      "outputs": []
    },
    {
      "metadata": {
        "id": "z7Me3wMKNy3u"
      },
      "cell_type": "markdown",
      "source": [
        "La función para completar los datos de `core` tiene una complicación extra por lo que la damos hecha:"
      ]
    },
    {
      "metadata": {
        "id": "Bn8pt_S8Ny3w"
      },
      "cell_type": "code",
      "source": [
        "# DEFINICIÓN FUNCIÓN 4\n",
        "def getCoreData(data):\n",
        "    for core in data['cores']:\n",
        "            if core['core'] != None:\n",
        "                response = requests.get(\"https://api.spacexdata.com/v4/cores/\"+core['core']).json()\n",
        "                Block.append(response['block'])\n",
        "                ReusedCount.append(response['reuse_count'])\n",
        "                Serial.append(response['serial'])\n",
        "            else:\n",
        "                Block.append(None)\n",
        "                ReusedCount.append(None)\n",
        "                Serial.append(None)\n",
        "            Outcome.append(str(core['landing_success'])+' '+str(core['landing_type']))\n",
        "            Flights.append(core['flight'])\n",
        "            GridFins.append(core['gridfins'])\n",
        "            Reused.append(core['reused'])\n",
        "            Legs.append(core['legs'])\n",
        "            LandingPad.append(core['landpad'])"
      ],
      "execution_count": null,
      "outputs": []
    },
    {
      "metadata": {
        "id": "nLeX4_8ONy3-"
      },
      "cell_type": "markdown",
      "source": [
        "\n",
        "Las funciones anteriores rellenan las listas vacías, veamoslo en práctica. *Revisa que la lista BoosterVersion esta vacía*\n"
      ]
    },
    {
      "metadata": {
        "id": "_ZDHh3MkNy3-",
        "colab": {
          "base_uri": "https://localhost:8080/",
          "height": 34
        },
        "outputId": "ebfabbcf-ae08-47ad-ca3d-a29b85769071"
      },
      "cell_type": "code",
      "source": [
        "#INSERTA AQUI TU CÓDIGO\n",
        "display(BoosterVersion)"
      ],
      "execution_count": null,
      "outputs": [
        {
          "output_type": "display_data",
          "data": {
            "text/plain": [
              "[]"
            ]
          },
          "metadata": {}
        }
      ]
    },
    {
      "metadata": {
        "id": "NdxUyZN0Ny3-"
      },
      "cell_type": "markdown",
      "source": [
        "*Llama ahora la función `getBoosterVersion`.* (No devuelve nada así que no hace falta asignarle una variable. Solo instanciamos la funcion.)"
      ]
    },
    {
      "metadata": {
        "id": "BCQH5v_cNy3_"
      },
      "cell_type": "code",
      "source": [
        "# LLAMADA A FUNCIÓN 1\n",
        "#INSERTA AQUI TU CÓDIGO\n",
        "getBoosterVersion(data)"
      ],
      "execution_count": null,
      "outputs": []
    },
    {
      "metadata": {
        "id": "p9dA5LUsNy3_"
      },
      "cell_type": "markdown",
      "source": [
        "*Muestra los primeros 5 valores de la lista `BoosterVersion`*"
      ]
    },
    {
      "metadata": {
        "id": "ZGMsCHLENy3_",
        "colab": {
          "base_uri": "https://localhost:8080/"
        },
        "outputId": "f10bac8d-a8a2-4ed2-ac23-2c54c5a99a98"
      },
      "cell_type": "code",
      "source": [
        "#INSERTA AQUI TU CÓDIGO\n",
        "BoosterVersion[0:6]"
      ],
      "execution_count": null,
      "outputs": [
        {
          "output_type": "execute_result",
          "data": {
            "text/plain": [
              "['Falcon 1', 'Falcon 1', 'Falcon 1', 'Falcon 1', 'Falcon 9', 'Falcon 9']"
            ]
          },
          "metadata": {},
          "execution_count": 27
        }
      ]
    },
    {
      "metadata": {
        "id": "uE1vGPdINy4A"
      },
      "cell_type": "markdown",
      "source": [
        "*Aplica el resto de funciones:*\n",
        "(No devuelven nada así que no hace falta asignarles una variable. Solo instanciamos a las funciones.)"
      ]
    },
    {
      "metadata": {
        "id": "NzFiwbmRNy4A"
      },
      "cell_type": "code",
      "source": [
        "# LLAMADA A FUNCIÓN 2\n",
        "#INSERTA AQUI TU CÓDIGO\n",
        "getLaunchSite(data)"
      ],
      "execution_count": null,
      "outputs": []
    },
    {
      "cell_type": "code",
      "source": [
        "# LLAMADA A FUNCIÓN 3\n",
        "#INSERTA AQUI TU CÓDIGO\n",
        "getPayloadData(data)"
      ],
      "metadata": {
        "id": "JRXVd6UH2dD6"
      },
      "execution_count": null,
      "outputs": []
    },
    {
      "cell_type": "code",
      "source": [
        "# LLAMADA A FUNCIÓN 4\n",
        "#INSERTA AQUI TU CÓDIGO\n",
        "getCoreData(data)"
      ],
      "metadata": {
        "id": "WOnkN49g2d8p"
      },
      "execution_count": null,
      "outputs": []
    },
    {
      "metadata": {
        "id": "NPsxOiVzNy4B"
      },
      "cell_type": "markdown",
      "source": [
        "Finalmente creamos un dataframe desde las listas anteriores. Primero convirtámolos en un diccionario:"
      ]
    },
    {
      "metadata": {
        "id": "9ZAZbvhnNy4B"
      },
      "cell_type": "code",
      "source": [
        "launch_dict = {'FlightNumber': list(data['flight_number']),\n",
        "'Date': list(data['date']),\n",
        "'BoosterVersion':BoosterVersion,\n",
        "'PayloadMass':PayloadMass,\n",
        "'Payload':Payload,\n",
        "'Orbit':Orbit,\n",
        "'LaunchSite':LaunchSite,\n",
        "'LandingOutcome':Outcome,\n",
        "'Flights':Flights,\n",
        "'GridFins':GridFins,\n",
        "'Reused':Reused,\n",
        "'Legs':Legs,\n",
        "'LandingPad':LandingPad,\n",
        "'Block':Block,\n",
        "'Customers': Customers,\n",
        "'Mission_Outcome':list(data['success']),\n",
        "'ReusedCount':ReusedCount,\n",
        "'Serial':Serial,\n",
        "'Longitude': Longitude,\n",
        "'Latitude': Latitude}"
      ],
      "execution_count": null,
      "outputs": []
    },
    {
      "metadata": {
        "id": "vN83lQSbNy4C"
      },
      "cell_type": "markdown",
      "source": [
        "Y ahora crea un dataframe de Pandas desde el diccionario. Llámalo `launch_data`"
      ]
    },
    {
      "metadata": {
        "id": "mtouw5ZeNy47"
      },
      "cell_type": "code",
      "source": [
        "#INSERTA AQUI TU CÓDIGO\n",
        "launch_data = pd.DataFrame.from_dict(launch_dict)"
      ],
      "execution_count": null,
      "outputs": []
    },
    {
      "metadata": {
        "id": "PdYR-G0NNy48"
      },
      "cell_type": "markdown",
      "source": [
        "Finalmente, muestra las primeras 5 filas del dataframe."
      ]
    },
    {
      "metadata": {
        "id": "WpyTFbFINy48",
        "colab": {
          "base_uri": "https://localhost:8080/",
          "height": 374
        },
        "outputId": "4c7c7f41-8d93-497e-85a9-8cdd52b80a22"
      },
      "cell_type": "code",
      "source": [
        "#INSERTA AQUI TU CÓDIGO\n",
        "launch_data[0:5]"
      ],
      "execution_count": null,
      "outputs": [
        {
          "output_type": "execute_result",
          "data": {
            "text/plain": [
              "   FlightNumber        Date BoosterVersion  PayloadMass  \\\n",
              "0             1  2006-03-24       Falcon 1         20.0   \n",
              "1             2  2007-03-21       Falcon 1          NaN   \n",
              "2             4  2008-09-28       Falcon 1        165.0   \n",
              "3             5  2009-07-13       Falcon 1        200.0   \n",
              "4             6  2010-06-04       Falcon 9          NaN   \n",
              "\n",
              "                     Payload Orbit       LaunchSite LandingOutcome  Flights  \\\n",
              "0                FalconSAT-2   LEO  Kwajalein Atoll      None None        1   \n",
              "1                    DemoSAT   LEO  Kwajalein Atoll      None None        1   \n",
              "2                     RatSat   LEO  Kwajalein Atoll      None None        1   \n",
              "3                   RazakSAT   LEO  Kwajalein Atoll      None None        1   \n",
              "4  Dragon Qualification Unit   LEO     CCSFS SLC 40      None None        1   \n",
              "\n",
              "   GridFins  Reused   Legs LandingPad  Block Customers Mission_Outcome  \\\n",
              "0     False   False  False       None    NaN   [DARPA]           False   \n",
              "1     False   False  False       None    NaN   [DARPA]           False   \n",
              "2     False   False  False       None    NaN  [SpaceX]            True   \n",
              "3     False   False  False       None    NaN    [ATSB]            True   \n",
              "4     False   False  False       None    1.0  [SpaceX]            True   \n",
              "\n",
              "   ReusedCount    Serial   Longitude   Latitude  \n",
              "0            0  Merlin1A  167.743129   9.047721  \n",
              "1            0  Merlin2A  167.743129   9.047721  \n",
              "2            0  Merlin2C  167.743129   9.047721  \n",
              "3            0  Merlin3C  167.743129   9.047721  \n",
              "4            0     B0003  -80.577366  28.561857  "
            ],
            "text/html": [
              "\n",
              "  <div id=\"df-7d74fbdc-6cc6-49c0-852d-0fae3c87ffe8\">\n",
              "    <div class=\"colab-df-container\">\n",
              "      <div>\n",
              "<style scoped>\n",
              "    .dataframe tbody tr th:only-of-type {\n",
              "        vertical-align: middle;\n",
              "    }\n",
              "\n",
              "    .dataframe tbody tr th {\n",
              "        vertical-align: top;\n",
              "    }\n",
              "\n",
              "    .dataframe thead th {\n",
              "        text-align: right;\n",
              "    }\n",
              "</style>\n",
              "<table border=\"1\" class=\"dataframe\">\n",
              "  <thead>\n",
              "    <tr style=\"text-align: right;\">\n",
              "      <th></th>\n",
              "      <th>FlightNumber</th>\n",
              "      <th>Date</th>\n",
              "      <th>BoosterVersion</th>\n",
              "      <th>PayloadMass</th>\n",
              "      <th>Payload</th>\n",
              "      <th>Orbit</th>\n",
              "      <th>LaunchSite</th>\n",
              "      <th>LandingOutcome</th>\n",
              "      <th>Flights</th>\n",
              "      <th>GridFins</th>\n",
              "      <th>Reused</th>\n",
              "      <th>Legs</th>\n",
              "      <th>LandingPad</th>\n",
              "      <th>Block</th>\n",
              "      <th>Customers</th>\n",
              "      <th>Mission_Outcome</th>\n",
              "      <th>ReusedCount</th>\n",
              "      <th>Serial</th>\n",
              "      <th>Longitude</th>\n",
              "      <th>Latitude</th>\n",
              "    </tr>\n",
              "  </thead>\n",
              "  <tbody>\n",
              "    <tr>\n",
              "      <th>0</th>\n",
              "      <td>1</td>\n",
              "      <td>2006-03-24</td>\n",
              "      <td>Falcon 1</td>\n",
              "      <td>20.0</td>\n",
              "      <td>FalconSAT-2</td>\n",
              "      <td>LEO</td>\n",
              "      <td>Kwajalein Atoll</td>\n",
              "      <td>None None</td>\n",
              "      <td>1</td>\n",
              "      <td>False</td>\n",
              "      <td>False</td>\n",
              "      <td>False</td>\n",
              "      <td>None</td>\n",
              "      <td>NaN</td>\n",
              "      <td>[DARPA]</td>\n",
              "      <td>False</td>\n",
              "      <td>0</td>\n",
              "      <td>Merlin1A</td>\n",
              "      <td>167.743129</td>\n",
              "      <td>9.047721</td>\n",
              "    </tr>\n",
              "    <tr>\n",
              "      <th>1</th>\n",
              "      <td>2</td>\n",
              "      <td>2007-03-21</td>\n",
              "      <td>Falcon 1</td>\n",
              "      <td>NaN</td>\n",
              "      <td>DemoSAT</td>\n",
              "      <td>LEO</td>\n",
              "      <td>Kwajalein Atoll</td>\n",
              "      <td>None None</td>\n",
              "      <td>1</td>\n",
              "      <td>False</td>\n",
              "      <td>False</td>\n",
              "      <td>False</td>\n",
              "      <td>None</td>\n",
              "      <td>NaN</td>\n",
              "      <td>[DARPA]</td>\n",
              "      <td>False</td>\n",
              "      <td>0</td>\n",
              "      <td>Merlin2A</td>\n",
              "      <td>167.743129</td>\n",
              "      <td>9.047721</td>\n",
              "    </tr>\n",
              "    <tr>\n",
              "      <th>2</th>\n",
              "      <td>4</td>\n",
              "      <td>2008-09-28</td>\n",
              "      <td>Falcon 1</td>\n",
              "      <td>165.0</td>\n",
              "      <td>RatSat</td>\n",
              "      <td>LEO</td>\n",
              "      <td>Kwajalein Atoll</td>\n",
              "      <td>None None</td>\n",
              "      <td>1</td>\n",
              "      <td>False</td>\n",
              "      <td>False</td>\n",
              "      <td>False</td>\n",
              "      <td>None</td>\n",
              "      <td>NaN</td>\n",
              "      <td>[SpaceX]</td>\n",
              "      <td>True</td>\n",
              "      <td>0</td>\n",
              "      <td>Merlin2C</td>\n",
              "      <td>167.743129</td>\n",
              "      <td>9.047721</td>\n",
              "    </tr>\n",
              "    <tr>\n",
              "      <th>3</th>\n",
              "      <td>5</td>\n",
              "      <td>2009-07-13</td>\n",
              "      <td>Falcon 1</td>\n",
              "      <td>200.0</td>\n",
              "      <td>RazakSAT</td>\n",
              "      <td>LEO</td>\n",
              "      <td>Kwajalein Atoll</td>\n",
              "      <td>None None</td>\n",
              "      <td>1</td>\n",
              "      <td>False</td>\n",
              "      <td>False</td>\n",
              "      <td>False</td>\n",
              "      <td>None</td>\n",
              "      <td>NaN</td>\n",
              "      <td>[ATSB]</td>\n",
              "      <td>True</td>\n",
              "      <td>0</td>\n",
              "      <td>Merlin3C</td>\n",
              "      <td>167.743129</td>\n",
              "      <td>9.047721</td>\n",
              "    </tr>\n",
              "    <tr>\n",
              "      <th>4</th>\n",
              "      <td>6</td>\n",
              "      <td>2010-06-04</td>\n",
              "      <td>Falcon 9</td>\n",
              "      <td>NaN</td>\n",
              "      <td>Dragon Qualification Unit</td>\n",
              "      <td>LEO</td>\n",
              "      <td>CCSFS SLC 40</td>\n",
              "      <td>None None</td>\n",
              "      <td>1</td>\n",
              "      <td>False</td>\n",
              "      <td>False</td>\n",
              "      <td>False</td>\n",
              "      <td>None</td>\n",
              "      <td>1.0</td>\n",
              "      <td>[SpaceX]</td>\n",
              "      <td>True</td>\n",
              "      <td>0</td>\n",
              "      <td>B0003</td>\n",
              "      <td>-80.577366</td>\n",
              "      <td>28.561857</td>\n",
              "    </tr>\n",
              "  </tbody>\n",
              "</table>\n",
              "</div>\n",
              "      <button class=\"colab-df-convert\" onclick=\"convertToInteractive('df-7d74fbdc-6cc6-49c0-852d-0fae3c87ffe8')\"\n",
              "              title=\"Convert this dataframe to an interactive table.\"\n",
              "              style=\"display:none;\">\n",
              "        \n",
              "  <svg xmlns=\"http://www.w3.org/2000/svg\" height=\"24px\"viewBox=\"0 0 24 24\"\n",
              "       width=\"24px\">\n",
              "    <path d=\"M0 0h24v24H0V0z\" fill=\"none\"/>\n",
              "    <path d=\"M18.56 5.44l.94 2.06.94-2.06 2.06-.94-2.06-.94-.94-2.06-.94 2.06-2.06.94zm-11 1L8.5 8.5l.94-2.06 2.06-.94-2.06-.94L8.5 2.5l-.94 2.06-2.06.94zm10 10l.94 2.06.94-2.06 2.06-.94-2.06-.94-.94-2.06-.94 2.06-2.06.94z\"/><path d=\"M17.41 7.96l-1.37-1.37c-.4-.4-.92-.59-1.43-.59-.52 0-1.04.2-1.43.59L10.3 9.45l-7.72 7.72c-.78.78-.78 2.05 0 2.83L4 21.41c.39.39.9.59 1.41.59.51 0 1.02-.2 1.41-.59l7.78-7.78 2.81-2.81c.8-.78.8-2.07 0-2.86zM5.41 20L4 18.59l7.72-7.72 1.47 1.35L5.41 20z\"/>\n",
              "  </svg>\n",
              "      </button>\n",
              "      \n",
              "  <style>\n",
              "    .colab-df-container {\n",
              "      display:flex;\n",
              "      flex-wrap:wrap;\n",
              "      gap: 12px;\n",
              "    }\n",
              "\n",
              "    .colab-df-convert {\n",
              "      background-color: #E8F0FE;\n",
              "      border: none;\n",
              "      border-radius: 50%;\n",
              "      cursor: pointer;\n",
              "      display: none;\n",
              "      fill: #1967D2;\n",
              "      height: 32px;\n",
              "      padding: 0 0 0 0;\n",
              "      width: 32px;\n",
              "    }\n",
              "\n",
              "    .colab-df-convert:hover {\n",
              "      background-color: #E2EBFA;\n",
              "      box-shadow: 0px 1px 2px rgba(60, 64, 67, 0.3), 0px 1px 3px 1px rgba(60, 64, 67, 0.15);\n",
              "      fill: #174EA6;\n",
              "    }\n",
              "\n",
              "    [theme=dark] .colab-df-convert {\n",
              "      background-color: #3B4455;\n",
              "      fill: #D2E3FC;\n",
              "    }\n",
              "\n",
              "    [theme=dark] .colab-df-convert:hover {\n",
              "      background-color: #434B5C;\n",
              "      box-shadow: 0px 1px 3px 1px rgba(0, 0, 0, 0.15);\n",
              "      filter: drop-shadow(0px 1px 2px rgba(0, 0, 0, 0.3));\n",
              "      fill: #FFFFFF;\n",
              "    }\n",
              "  </style>\n",
              "\n",
              "      <script>\n",
              "        const buttonEl =\n",
              "          document.querySelector('#df-7d74fbdc-6cc6-49c0-852d-0fae3c87ffe8 button.colab-df-convert');\n",
              "        buttonEl.style.display =\n",
              "          google.colab.kernel.accessAllowed ? 'block' : 'none';\n",
              "\n",
              "        async function convertToInteractive(key) {\n",
              "          const element = document.querySelector('#df-7d74fbdc-6cc6-49c0-852d-0fae3c87ffe8');\n",
              "          const dataTable =\n",
              "            await google.colab.kernel.invokeFunction('convertToInteractive',\n",
              "                                                     [key], {});\n",
              "          if (!dataTable) return;\n",
              "\n",
              "          const docLinkHtml = 'Like what you see? Visit the ' +\n",
              "            '<a target=\"_blank\" href=https://colab.research.google.com/notebooks/data_table.ipynb>data table notebook</a>'\n",
              "            + ' to learn more about interactive tables.';\n",
              "          element.innerHTML = '';\n",
              "          dataTable['output_type'] = 'display_data';\n",
              "          await google.colab.output.renderOutput(dataTable, element);\n",
              "          const docLink = document.createElement('div');\n",
              "          docLink.innerHTML = docLinkHtml;\n",
              "          element.appendChild(docLink);\n",
              "        }\n",
              "      </script>\n",
              "    </div>\n",
              "  </div>\n",
              "  "
            ]
          },
          "metadata": {},
          "execution_count": 37
        }
      ]
    },
    {
      "metadata": {
        "id": "6ZjSain5Ny49"
      },
      "cell_type": "markdown",
      "source": [
        "### Parte 2: Filtra el dataframe para que solo incluya los lanzamientos de falcon 9\n"
      ]
    },
    {
      "metadata": {
        "id": "L0NN1RSONy49"
      },
      "cell_type": "markdown",
      "source": [
        "\n",
        "El falcon 9 es una versión considerablemente más nueva y efectiva que el faclon 1. Dado que nos interesan los datos recientes y a futuro vamos a *eliminar los lanzamientos de `Falcon 1` del fataframe launch_data y llama al nuevo dataframe `data_falcon9`. Muestra las primeras 5 filas.*"
      ]
    },
    {
      "cell_type": "code",
      "source": [
        "launch_data.loc[launch_data['BoosterVersion'] == 'Falcon 9']"
      ],
      "metadata": {
        "id": "GaGsCkkGCN4C",
        "outputId": "46561bdb-12a1-4798-d027-9bdc1ae6abc0",
        "colab": {
          "base_uri": "https://localhost:8080/",
          "height": 696
        }
      },
      "execution_count": null,
      "outputs": [
        {
          "output_type": "execute_result",
          "data": {
            "text/plain": [
              "     FlightNumber        Date BoosterVersion  PayloadMass  \\\n",
              "4               6  2010-06-04       Falcon 9          NaN   \n",
              "5               8  2012-05-22       Falcon 9        525.0   \n",
              "6              10  2013-03-01       Falcon 9        677.0   \n",
              "7              11  2013-09-29       Falcon 9        500.0   \n",
              "8              12  2013-12-03       Falcon 9       3170.0   \n",
              "..            ...         ...            ...          ...   \n",
              "167           181  2022-08-28       Falcon 9      13260.0   \n",
              "168           182  2022-08-31       Falcon 9      13260.0   \n",
              "169           185  2022-09-17       Falcon 9      13260.0   \n",
              "170           186  2022-09-24       Falcon 9      13260.0   \n",
              "171           187  2022-10-05       Falcon 9          NaN   \n",
              "\n",
              "                       Payload Orbit    LaunchSite LandingOutcome  Flights  \\\n",
              "4    Dragon Qualification Unit   LEO  CCSFS SLC 40      None None        1   \n",
              "5           COTS Demo Flight 2   LEO  CCSFS SLC 40      None None        1   \n",
              "6                        CRS-2   ISS  CCSFS SLC 40      None None        1   \n",
              "7                     CASSIOPE    PO   VAFB SLC 4E    False Ocean        1   \n",
              "8                        SES-8   GTO  CCSFS SLC 40      None None        1   \n",
              "..                         ...   ...           ...            ...      ...   \n",
              "167       Starlink 4-23 (v1.5)  VLEO    KSC LC 39A      True ASDS        2   \n",
              "168        Starlink 3-4 (v1.5)  VLEO   VAFB SLC 4E      True ASDS        7   \n",
              "169       Starlink 4-34 (v1.5)  VLEO  CCSFS SLC 40      True ASDS        6   \n",
              "170       Starlink 4-35 (v1.5)  VLEO  CCSFS SLC 40      True ASDS        4   \n",
              "171                     Crew-5   ISS    KSC LC 39A      True ASDS        1   \n",
              "\n",
              "     GridFins  Reused   Legs                LandingPad  Block  \\\n",
              "4       False   False  False                      None    1.0   \n",
              "5       False   False  False                      None    1.0   \n",
              "6       False   False  False                      None    1.0   \n",
              "7       False   False  False                      None    1.0   \n",
              "8       False   False  False                      None    1.0   \n",
              "..        ...     ...    ...                       ...    ...   \n",
              "167      True    True   True  5e9e3033383ecb075134e7cd    5.0   \n",
              "168      True    True   True  5e9e3032383ecb6bb234e7ca    5.0   \n",
              "169      True    True   True  5e9e3033383ecbb9e534e7cc    5.0   \n",
              "170      True    True   True  5e9e3033383ecbb9e534e7cc    5.0   \n",
              "171      True   False   True  5e9e3033383ecbb9e534e7cc    5.0   \n",
              "\n",
              "           Customers Mission_Outcome  ReusedCount Serial   Longitude  \\\n",
              "4           [SpaceX]            True            0  B0003  -80.577366   \n",
              "5       [NASA(COTS)]            True            0  B0005  -80.577366   \n",
              "6       [NASA (CRS)]            True            0  B0007  -80.577366   \n",
              "7              [MDA]            True            0  B1003 -120.610829   \n",
              "8              [SES]            True            0  B1004  -80.577366   \n",
              "..               ...             ...          ...    ...         ...   \n",
              "167         [SpaceX]            True            1  B1069  -80.603956   \n",
              "168         [SpaceX]            True            6  B1063 -120.610829   \n",
              "169         [SpaceX]            True            5  B1067  -80.577366   \n",
              "170         [SpaceX]            True            0  B1072  -80.577366   \n",
              "171  [NASA (CCtCap)]            True            0  B1077  -80.603956   \n",
              "\n",
              "      Latitude  \n",
              "4    28.561857  \n",
              "5    28.561857  \n",
              "6    28.561857  \n",
              "7    34.632093  \n",
              "8    28.561857  \n",
              "..         ...  \n",
              "167  28.608058  \n",
              "168  34.632093  \n",
              "169  28.561857  \n",
              "170  28.561857  \n",
              "171  28.608058  \n",
              "\n",
              "[168 rows x 20 columns]"
            ],
            "text/html": [
              "\n",
              "  <div id=\"df-30984ee8-2254-4351-bdeb-f0a8fea0cada\">\n",
              "    <div class=\"colab-df-container\">\n",
              "      <div>\n",
              "<style scoped>\n",
              "    .dataframe tbody tr th:only-of-type {\n",
              "        vertical-align: middle;\n",
              "    }\n",
              "\n",
              "    .dataframe tbody tr th {\n",
              "        vertical-align: top;\n",
              "    }\n",
              "\n",
              "    .dataframe thead th {\n",
              "        text-align: right;\n",
              "    }\n",
              "</style>\n",
              "<table border=\"1\" class=\"dataframe\">\n",
              "  <thead>\n",
              "    <tr style=\"text-align: right;\">\n",
              "      <th></th>\n",
              "      <th>FlightNumber</th>\n",
              "      <th>Date</th>\n",
              "      <th>BoosterVersion</th>\n",
              "      <th>PayloadMass</th>\n",
              "      <th>Payload</th>\n",
              "      <th>Orbit</th>\n",
              "      <th>LaunchSite</th>\n",
              "      <th>LandingOutcome</th>\n",
              "      <th>Flights</th>\n",
              "      <th>GridFins</th>\n",
              "      <th>Reused</th>\n",
              "      <th>Legs</th>\n",
              "      <th>LandingPad</th>\n",
              "      <th>Block</th>\n",
              "      <th>Customers</th>\n",
              "      <th>Mission_Outcome</th>\n",
              "      <th>ReusedCount</th>\n",
              "      <th>Serial</th>\n",
              "      <th>Longitude</th>\n",
              "      <th>Latitude</th>\n",
              "    </tr>\n",
              "  </thead>\n",
              "  <tbody>\n",
              "    <tr>\n",
              "      <th>4</th>\n",
              "      <td>6</td>\n",
              "      <td>2010-06-04</td>\n",
              "      <td>Falcon 9</td>\n",
              "      <td>NaN</td>\n",
              "      <td>Dragon Qualification Unit</td>\n",
              "      <td>LEO</td>\n",
              "      <td>CCSFS SLC 40</td>\n",
              "      <td>None None</td>\n",
              "      <td>1</td>\n",
              "      <td>False</td>\n",
              "      <td>False</td>\n",
              "      <td>False</td>\n",
              "      <td>None</td>\n",
              "      <td>1.0</td>\n",
              "      <td>[SpaceX]</td>\n",
              "      <td>True</td>\n",
              "      <td>0</td>\n",
              "      <td>B0003</td>\n",
              "      <td>-80.577366</td>\n",
              "      <td>28.561857</td>\n",
              "    </tr>\n",
              "    <tr>\n",
              "      <th>5</th>\n",
              "      <td>8</td>\n",
              "      <td>2012-05-22</td>\n",
              "      <td>Falcon 9</td>\n",
              "      <td>525.0</td>\n",
              "      <td>COTS Demo Flight 2</td>\n",
              "      <td>LEO</td>\n",
              "      <td>CCSFS SLC 40</td>\n",
              "      <td>None None</td>\n",
              "      <td>1</td>\n",
              "      <td>False</td>\n",
              "      <td>False</td>\n",
              "      <td>False</td>\n",
              "      <td>None</td>\n",
              "      <td>1.0</td>\n",
              "      <td>[NASA(COTS)]</td>\n",
              "      <td>True</td>\n",
              "      <td>0</td>\n",
              "      <td>B0005</td>\n",
              "      <td>-80.577366</td>\n",
              "      <td>28.561857</td>\n",
              "    </tr>\n",
              "    <tr>\n",
              "      <th>6</th>\n",
              "      <td>10</td>\n",
              "      <td>2013-03-01</td>\n",
              "      <td>Falcon 9</td>\n",
              "      <td>677.0</td>\n",
              "      <td>CRS-2</td>\n",
              "      <td>ISS</td>\n",
              "      <td>CCSFS SLC 40</td>\n",
              "      <td>None None</td>\n",
              "      <td>1</td>\n",
              "      <td>False</td>\n",
              "      <td>False</td>\n",
              "      <td>False</td>\n",
              "      <td>None</td>\n",
              "      <td>1.0</td>\n",
              "      <td>[NASA (CRS)]</td>\n",
              "      <td>True</td>\n",
              "      <td>0</td>\n",
              "      <td>B0007</td>\n",
              "      <td>-80.577366</td>\n",
              "      <td>28.561857</td>\n",
              "    </tr>\n",
              "    <tr>\n",
              "      <th>7</th>\n",
              "      <td>11</td>\n",
              "      <td>2013-09-29</td>\n",
              "      <td>Falcon 9</td>\n",
              "      <td>500.0</td>\n",
              "      <td>CASSIOPE</td>\n",
              "      <td>PO</td>\n",
              "      <td>VAFB SLC 4E</td>\n",
              "      <td>False Ocean</td>\n",
              "      <td>1</td>\n",
              "      <td>False</td>\n",
              "      <td>False</td>\n",
              "      <td>False</td>\n",
              "      <td>None</td>\n",
              "      <td>1.0</td>\n",
              "      <td>[MDA]</td>\n",
              "      <td>True</td>\n",
              "      <td>0</td>\n",
              "      <td>B1003</td>\n",
              "      <td>-120.610829</td>\n",
              "      <td>34.632093</td>\n",
              "    </tr>\n",
              "    <tr>\n",
              "      <th>8</th>\n",
              "      <td>12</td>\n",
              "      <td>2013-12-03</td>\n",
              "      <td>Falcon 9</td>\n",
              "      <td>3170.0</td>\n",
              "      <td>SES-8</td>\n",
              "      <td>GTO</td>\n",
              "      <td>CCSFS SLC 40</td>\n",
              "      <td>None None</td>\n",
              "      <td>1</td>\n",
              "      <td>False</td>\n",
              "      <td>False</td>\n",
              "      <td>False</td>\n",
              "      <td>None</td>\n",
              "      <td>1.0</td>\n",
              "      <td>[SES]</td>\n",
              "      <td>True</td>\n",
              "      <td>0</td>\n",
              "      <td>B1004</td>\n",
              "      <td>-80.577366</td>\n",
              "      <td>28.561857</td>\n",
              "    </tr>\n",
              "    <tr>\n",
              "      <th>...</th>\n",
              "      <td>...</td>\n",
              "      <td>...</td>\n",
              "      <td>...</td>\n",
              "      <td>...</td>\n",
              "      <td>...</td>\n",
              "      <td>...</td>\n",
              "      <td>...</td>\n",
              "      <td>...</td>\n",
              "      <td>...</td>\n",
              "      <td>...</td>\n",
              "      <td>...</td>\n",
              "      <td>...</td>\n",
              "      <td>...</td>\n",
              "      <td>...</td>\n",
              "      <td>...</td>\n",
              "      <td>...</td>\n",
              "      <td>...</td>\n",
              "      <td>...</td>\n",
              "      <td>...</td>\n",
              "      <td>...</td>\n",
              "    </tr>\n",
              "    <tr>\n",
              "      <th>167</th>\n",
              "      <td>181</td>\n",
              "      <td>2022-08-28</td>\n",
              "      <td>Falcon 9</td>\n",
              "      <td>13260.0</td>\n",
              "      <td>Starlink 4-23 (v1.5)</td>\n",
              "      <td>VLEO</td>\n",
              "      <td>KSC LC 39A</td>\n",
              "      <td>True ASDS</td>\n",
              "      <td>2</td>\n",
              "      <td>True</td>\n",
              "      <td>True</td>\n",
              "      <td>True</td>\n",
              "      <td>5e9e3033383ecb075134e7cd</td>\n",
              "      <td>5.0</td>\n",
              "      <td>[SpaceX]</td>\n",
              "      <td>True</td>\n",
              "      <td>1</td>\n",
              "      <td>B1069</td>\n",
              "      <td>-80.603956</td>\n",
              "      <td>28.608058</td>\n",
              "    </tr>\n",
              "    <tr>\n",
              "      <th>168</th>\n",
              "      <td>182</td>\n",
              "      <td>2022-08-31</td>\n",
              "      <td>Falcon 9</td>\n",
              "      <td>13260.0</td>\n",
              "      <td>Starlink 3-4 (v1.5)</td>\n",
              "      <td>VLEO</td>\n",
              "      <td>VAFB SLC 4E</td>\n",
              "      <td>True ASDS</td>\n",
              "      <td>7</td>\n",
              "      <td>True</td>\n",
              "      <td>True</td>\n",
              "      <td>True</td>\n",
              "      <td>5e9e3032383ecb6bb234e7ca</td>\n",
              "      <td>5.0</td>\n",
              "      <td>[SpaceX]</td>\n",
              "      <td>True</td>\n",
              "      <td>6</td>\n",
              "      <td>B1063</td>\n",
              "      <td>-120.610829</td>\n",
              "      <td>34.632093</td>\n",
              "    </tr>\n",
              "    <tr>\n",
              "      <th>169</th>\n",
              "      <td>185</td>\n",
              "      <td>2022-09-17</td>\n",
              "      <td>Falcon 9</td>\n",
              "      <td>13260.0</td>\n",
              "      <td>Starlink 4-34 (v1.5)</td>\n",
              "      <td>VLEO</td>\n",
              "      <td>CCSFS SLC 40</td>\n",
              "      <td>True ASDS</td>\n",
              "      <td>6</td>\n",
              "      <td>True</td>\n",
              "      <td>True</td>\n",
              "      <td>True</td>\n",
              "      <td>5e9e3033383ecbb9e534e7cc</td>\n",
              "      <td>5.0</td>\n",
              "      <td>[SpaceX]</td>\n",
              "      <td>True</td>\n",
              "      <td>5</td>\n",
              "      <td>B1067</td>\n",
              "      <td>-80.577366</td>\n",
              "      <td>28.561857</td>\n",
              "    </tr>\n",
              "    <tr>\n",
              "      <th>170</th>\n",
              "      <td>186</td>\n",
              "      <td>2022-09-24</td>\n",
              "      <td>Falcon 9</td>\n",
              "      <td>13260.0</td>\n",
              "      <td>Starlink 4-35 (v1.5)</td>\n",
              "      <td>VLEO</td>\n",
              "      <td>CCSFS SLC 40</td>\n",
              "      <td>True ASDS</td>\n",
              "      <td>4</td>\n",
              "      <td>True</td>\n",
              "      <td>True</td>\n",
              "      <td>True</td>\n",
              "      <td>5e9e3033383ecbb9e534e7cc</td>\n",
              "      <td>5.0</td>\n",
              "      <td>[SpaceX]</td>\n",
              "      <td>True</td>\n",
              "      <td>0</td>\n",
              "      <td>B1072</td>\n",
              "      <td>-80.577366</td>\n",
              "      <td>28.561857</td>\n",
              "    </tr>\n",
              "    <tr>\n",
              "      <th>171</th>\n",
              "      <td>187</td>\n",
              "      <td>2022-10-05</td>\n",
              "      <td>Falcon 9</td>\n",
              "      <td>NaN</td>\n",
              "      <td>Crew-5</td>\n",
              "      <td>ISS</td>\n",
              "      <td>KSC LC 39A</td>\n",
              "      <td>True ASDS</td>\n",
              "      <td>1</td>\n",
              "      <td>True</td>\n",
              "      <td>False</td>\n",
              "      <td>True</td>\n",
              "      <td>5e9e3033383ecbb9e534e7cc</td>\n",
              "      <td>5.0</td>\n",
              "      <td>[NASA (CCtCap)]</td>\n",
              "      <td>True</td>\n",
              "      <td>0</td>\n",
              "      <td>B1077</td>\n",
              "      <td>-80.603956</td>\n",
              "      <td>28.608058</td>\n",
              "    </tr>\n",
              "  </tbody>\n",
              "</table>\n",
              "<p>168 rows × 20 columns</p>\n",
              "</div>\n",
              "      <button class=\"colab-df-convert\" onclick=\"convertToInteractive('df-30984ee8-2254-4351-bdeb-f0a8fea0cada')\"\n",
              "              title=\"Convert this dataframe to an interactive table.\"\n",
              "              style=\"display:none;\">\n",
              "        \n",
              "  <svg xmlns=\"http://www.w3.org/2000/svg\" height=\"24px\"viewBox=\"0 0 24 24\"\n",
              "       width=\"24px\">\n",
              "    <path d=\"M0 0h24v24H0V0z\" fill=\"none\"/>\n",
              "    <path d=\"M18.56 5.44l.94 2.06.94-2.06 2.06-.94-2.06-.94-.94-2.06-.94 2.06-2.06.94zm-11 1L8.5 8.5l.94-2.06 2.06-.94-2.06-.94L8.5 2.5l-.94 2.06-2.06.94zm10 10l.94 2.06.94-2.06 2.06-.94-2.06-.94-.94-2.06-.94 2.06-2.06.94z\"/><path d=\"M17.41 7.96l-1.37-1.37c-.4-.4-.92-.59-1.43-.59-.52 0-1.04.2-1.43.59L10.3 9.45l-7.72 7.72c-.78.78-.78 2.05 0 2.83L4 21.41c.39.39.9.59 1.41.59.51 0 1.02-.2 1.41-.59l7.78-7.78 2.81-2.81c.8-.78.8-2.07 0-2.86zM5.41 20L4 18.59l7.72-7.72 1.47 1.35L5.41 20z\"/>\n",
              "  </svg>\n",
              "      </button>\n",
              "      \n",
              "  <style>\n",
              "    .colab-df-container {\n",
              "      display:flex;\n",
              "      flex-wrap:wrap;\n",
              "      gap: 12px;\n",
              "    }\n",
              "\n",
              "    .colab-df-convert {\n",
              "      background-color: #E8F0FE;\n",
              "      border: none;\n",
              "      border-radius: 50%;\n",
              "      cursor: pointer;\n",
              "      display: none;\n",
              "      fill: #1967D2;\n",
              "      height: 32px;\n",
              "      padding: 0 0 0 0;\n",
              "      width: 32px;\n",
              "    }\n",
              "\n",
              "    .colab-df-convert:hover {\n",
              "      background-color: #E2EBFA;\n",
              "      box-shadow: 0px 1px 2px rgba(60, 64, 67, 0.3), 0px 1px 3px 1px rgba(60, 64, 67, 0.15);\n",
              "      fill: #174EA6;\n",
              "    }\n",
              "\n",
              "    [theme=dark] .colab-df-convert {\n",
              "      background-color: #3B4455;\n",
              "      fill: #D2E3FC;\n",
              "    }\n",
              "\n",
              "    [theme=dark] .colab-df-convert:hover {\n",
              "      background-color: #434B5C;\n",
              "      box-shadow: 0px 1px 3px 1px rgba(0, 0, 0, 0.15);\n",
              "      filter: drop-shadow(0px 1px 2px rgba(0, 0, 0, 0.3));\n",
              "      fill: #FFFFFF;\n",
              "    }\n",
              "  </style>\n",
              "\n",
              "      <script>\n",
              "        const buttonEl =\n",
              "          document.querySelector('#df-30984ee8-2254-4351-bdeb-f0a8fea0cada button.colab-df-convert');\n",
              "        buttonEl.style.display =\n",
              "          google.colab.kernel.accessAllowed ? 'block' : 'none';\n",
              "\n",
              "        async function convertToInteractive(key) {\n",
              "          const element = document.querySelector('#df-30984ee8-2254-4351-bdeb-f0a8fea0cada');\n",
              "          const dataTable =\n",
              "            await google.colab.kernel.invokeFunction('convertToInteractive',\n",
              "                                                     [key], {});\n",
              "          if (!dataTable) return;\n",
              "\n",
              "          const docLinkHtml = 'Like what you see? Visit the ' +\n",
              "            '<a target=\"_blank\" href=https://colab.research.google.com/notebooks/data_table.ipynb>data table notebook</a>'\n",
              "            + ' to learn more about interactive tables.';\n",
              "          element.innerHTML = '';\n",
              "          dataTable['output_type'] = 'display_data';\n",
              "          await google.colab.output.renderOutput(dataTable, element);\n",
              "          const docLink = document.createElement('div');\n",
              "          docLink.innerHTML = docLinkHtml;\n",
              "          element.appendChild(docLink);\n",
              "        }\n",
              "      </script>\n",
              "    </div>\n",
              "  </div>\n",
              "  "
            ]
          },
          "metadata": {},
          "execution_count": 41
        }
      ]
    },
    {
      "metadata": {
        "id": "NxpgrL-gNy49"
      },
      "cell_type": "code",
      "source": [
        "# INSERTA AQUÍ TU CÓDIGO\n",
        "data_falcon9 = launch_data.loc[launch_data['BoosterVersion'] == 'Falcon 9']"
      ],
      "execution_count": null,
      "outputs": []
    },
    {
      "metadata": {
        "id": "LxXfrs5SNy4-"
      },
      "cell_type": "markdown",
      "source": [
        "Ahora que hemos eliminado los lanzamientos de Falcon 1 la columna FlightNumber está desajustada. Vamos a volver a ordenarla:"
      ]
    },
    {
      "metadata": {
        "id": "ukOl_0ImNy4-",
        "colab": {
          "base_uri": "https://localhost:8080/",
          "height": 495
        },
        "outputId": "3ab50a91-83cf-4361-84d3-93bd08df4527"
      },
      "cell_type": "code",
      "source": [
        "data_falcon9.FlightNumber = list(range(1, data_falcon9.shape[0]+1))\n",
        "data_falcon9.head()"
      ],
      "execution_count": null,
      "outputs": [
        {
          "output_type": "stream",
          "name": "stderr",
          "text": [
            "/usr/local/lib/python3.8/dist-packages/pandas/core/generic.py:5516: SettingWithCopyWarning: \n",
            "A value is trying to be set on a copy of a slice from a DataFrame.\n",
            "Try using .loc[row_indexer,col_indexer] = value instead\n",
            "\n",
            "See the caveats in the documentation: https://pandas.pydata.org/pandas-docs/stable/user_guide/indexing.html#returning-a-view-versus-a-copy\n",
            "  self[name] = value\n"
          ]
        },
        {
          "output_type": "execute_result",
          "data": {
            "text/plain": [
              "   FlightNumber        Date BoosterVersion  PayloadMass  \\\n",
              "4             1  2010-06-04       Falcon 9          NaN   \n",
              "5             2  2012-05-22       Falcon 9        525.0   \n",
              "6             3  2013-03-01       Falcon 9        677.0   \n",
              "7             4  2013-09-29       Falcon 9        500.0   \n",
              "8             5  2013-12-03       Falcon 9       3170.0   \n",
              "\n",
              "                     Payload Orbit    LaunchSite LandingOutcome  Flights  \\\n",
              "4  Dragon Qualification Unit   LEO  CCSFS SLC 40      None None        1   \n",
              "5         COTS Demo Flight 2   LEO  CCSFS SLC 40      None None        1   \n",
              "6                      CRS-2   ISS  CCSFS SLC 40      None None        1   \n",
              "7                   CASSIOPE    PO   VAFB SLC 4E    False Ocean        1   \n",
              "8                      SES-8   GTO  CCSFS SLC 40      None None        1   \n",
              "\n",
              "   GridFins  Reused   Legs LandingPad  Block     Customers Mission_Outcome  \\\n",
              "4     False   False  False       None    1.0      [SpaceX]            True   \n",
              "5     False   False  False       None    1.0  [NASA(COTS)]            True   \n",
              "6     False   False  False       None    1.0  [NASA (CRS)]            True   \n",
              "7     False   False  False       None    1.0         [MDA]            True   \n",
              "8     False   False  False       None    1.0         [SES]            True   \n",
              "\n",
              "   ReusedCount Serial   Longitude   Latitude  \n",
              "4            0  B0003  -80.577366  28.561857  \n",
              "5            0  B0005  -80.577366  28.561857  \n",
              "6            0  B0007  -80.577366  28.561857  \n",
              "7            0  B1003 -120.610829  34.632093  \n",
              "8            0  B1004  -80.577366  28.561857  "
            ],
            "text/html": [
              "\n",
              "  <div id=\"df-1c933524-1f63-4234-97dd-5ba4dcdcc4b7\">\n",
              "    <div class=\"colab-df-container\">\n",
              "      <div>\n",
              "<style scoped>\n",
              "    .dataframe tbody tr th:only-of-type {\n",
              "        vertical-align: middle;\n",
              "    }\n",
              "\n",
              "    .dataframe tbody tr th {\n",
              "        vertical-align: top;\n",
              "    }\n",
              "\n",
              "    .dataframe thead th {\n",
              "        text-align: right;\n",
              "    }\n",
              "</style>\n",
              "<table border=\"1\" class=\"dataframe\">\n",
              "  <thead>\n",
              "    <tr style=\"text-align: right;\">\n",
              "      <th></th>\n",
              "      <th>FlightNumber</th>\n",
              "      <th>Date</th>\n",
              "      <th>BoosterVersion</th>\n",
              "      <th>PayloadMass</th>\n",
              "      <th>Payload</th>\n",
              "      <th>Orbit</th>\n",
              "      <th>LaunchSite</th>\n",
              "      <th>LandingOutcome</th>\n",
              "      <th>Flights</th>\n",
              "      <th>GridFins</th>\n",
              "      <th>Reused</th>\n",
              "      <th>Legs</th>\n",
              "      <th>LandingPad</th>\n",
              "      <th>Block</th>\n",
              "      <th>Customers</th>\n",
              "      <th>Mission_Outcome</th>\n",
              "      <th>ReusedCount</th>\n",
              "      <th>Serial</th>\n",
              "      <th>Longitude</th>\n",
              "      <th>Latitude</th>\n",
              "    </tr>\n",
              "  </thead>\n",
              "  <tbody>\n",
              "    <tr>\n",
              "      <th>4</th>\n",
              "      <td>1</td>\n",
              "      <td>2010-06-04</td>\n",
              "      <td>Falcon 9</td>\n",
              "      <td>NaN</td>\n",
              "      <td>Dragon Qualification Unit</td>\n",
              "      <td>LEO</td>\n",
              "      <td>CCSFS SLC 40</td>\n",
              "      <td>None None</td>\n",
              "      <td>1</td>\n",
              "      <td>False</td>\n",
              "      <td>False</td>\n",
              "      <td>False</td>\n",
              "      <td>None</td>\n",
              "      <td>1.0</td>\n",
              "      <td>[SpaceX]</td>\n",
              "      <td>True</td>\n",
              "      <td>0</td>\n",
              "      <td>B0003</td>\n",
              "      <td>-80.577366</td>\n",
              "      <td>28.561857</td>\n",
              "    </tr>\n",
              "    <tr>\n",
              "      <th>5</th>\n",
              "      <td>2</td>\n",
              "      <td>2012-05-22</td>\n",
              "      <td>Falcon 9</td>\n",
              "      <td>525.0</td>\n",
              "      <td>COTS Demo Flight 2</td>\n",
              "      <td>LEO</td>\n",
              "      <td>CCSFS SLC 40</td>\n",
              "      <td>None None</td>\n",
              "      <td>1</td>\n",
              "      <td>False</td>\n",
              "      <td>False</td>\n",
              "      <td>False</td>\n",
              "      <td>None</td>\n",
              "      <td>1.0</td>\n",
              "      <td>[NASA(COTS)]</td>\n",
              "      <td>True</td>\n",
              "      <td>0</td>\n",
              "      <td>B0005</td>\n",
              "      <td>-80.577366</td>\n",
              "      <td>28.561857</td>\n",
              "    </tr>\n",
              "    <tr>\n",
              "      <th>6</th>\n",
              "      <td>3</td>\n",
              "      <td>2013-03-01</td>\n",
              "      <td>Falcon 9</td>\n",
              "      <td>677.0</td>\n",
              "      <td>CRS-2</td>\n",
              "      <td>ISS</td>\n",
              "      <td>CCSFS SLC 40</td>\n",
              "      <td>None None</td>\n",
              "      <td>1</td>\n",
              "      <td>False</td>\n",
              "      <td>False</td>\n",
              "      <td>False</td>\n",
              "      <td>None</td>\n",
              "      <td>1.0</td>\n",
              "      <td>[NASA (CRS)]</td>\n",
              "      <td>True</td>\n",
              "      <td>0</td>\n",
              "      <td>B0007</td>\n",
              "      <td>-80.577366</td>\n",
              "      <td>28.561857</td>\n",
              "    </tr>\n",
              "    <tr>\n",
              "      <th>7</th>\n",
              "      <td>4</td>\n",
              "      <td>2013-09-29</td>\n",
              "      <td>Falcon 9</td>\n",
              "      <td>500.0</td>\n",
              "      <td>CASSIOPE</td>\n",
              "      <td>PO</td>\n",
              "      <td>VAFB SLC 4E</td>\n",
              "      <td>False Ocean</td>\n",
              "      <td>1</td>\n",
              "      <td>False</td>\n",
              "      <td>False</td>\n",
              "      <td>False</td>\n",
              "      <td>None</td>\n",
              "      <td>1.0</td>\n",
              "      <td>[MDA]</td>\n",
              "      <td>True</td>\n",
              "      <td>0</td>\n",
              "      <td>B1003</td>\n",
              "      <td>-120.610829</td>\n",
              "      <td>34.632093</td>\n",
              "    </tr>\n",
              "    <tr>\n",
              "      <th>8</th>\n",
              "      <td>5</td>\n",
              "      <td>2013-12-03</td>\n",
              "      <td>Falcon 9</td>\n",
              "      <td>3170.0</td>\n",
              "      <td>SES-8</td>\n",
              "      <td>GTO</td>\n",
              "      <td>CCSFS SLC 40</td>\n",
              "      <td>None None</td>\n",
              "      <td>1</td>\n",
              "      <td>False</td>\n",
              "      <td>False</td>\n",
              "      <td>False</td>\n",
              "      <td>None</td>\n",
              "      <td>1.0</td>\n",
              "      <td>[SES]</td>\n",
              "      <td>True</td>\n",
              "      <td>0</td>\n",
              "      <td>B1004</td>\n",
              "      <td>-80.577366</td>\n",
              "      <td>28.561857</td>\n",
              "    </tr>\n",
              "  </tbody>\n",
              "</table>\n",
              "</div>\n",
              "      <button class=\"colab-df-convert\" onclick=\"convertToInteractive('df-1c933524-1f63-4234-97dd-5ba4dcdcc4b7')\"\n",
              "              title=\"Convert this dataframe to an interactive table.\"\n",
              "              style=\"display:none;\">\n",
              "        \n",
              "  <svg xmlns=\"http://www.w3.org/2000/svg\" height=\"24px\"viewBox=\"0 0 24 24\"\n",
              "       width=\"24px\">\n",
              "    <path d=\"M0 0h24v24H0V0z\" fill=\"none\"/>\n",
              "    <path d=\"M18.56 5.44l.94 2.06.94-2.06 2.06-.94-2.06-.94-.94-2.06-.94 2.06-2.06.94zm-11 1L8.5 8.5l.94-2.06 2.06-.94-2.06-.94L8.5 2.5l-.94 2.06-2.06.94zm10 10l.94 2.06.94-2.06 2.06-.94-2.06-.94-.94-2.06-.94 2.06-2.06.94z\"/><path d=\"M17.41 7.96l-1.37-1.37c-.4-.4-.92-.59-1.43-.59-.52 0-1.04.2-1.43.59L10.3 9.45l-7.72 7.72c-.78.78-.78 2.05 0 2.83L4 21.41c.39.39.9.59 1.41.59.51 0 1.02-.2 1.41-.59l7.78-7.78 2.81-2.81c.8-.78.8-2.07 0-2.86zM5.41 20L4 18.59l7.72-7.72 1.47 1.35L5.41 20z\"/>\n",
              "  </svg>\n",
              "      </button>\n",
              "      \n",
              "  <style>\n",
              "    .colab-df-container {\n",
              "      display:flex;\n",
              "      flex-wrap:wrap;\n",
              "      gap: 12px;\n",
              "    }\n",
              "\n",
              "    .colab-df-convert {\n",
              "      background-color: #E8F0FE;\n",
              "      border: none;\n",
              "      border-radius: 50%;\n",
              "      cursor: pointer;\n",
              "      display: none;\n",
              "      fill: #1967D2;\n",
              "      height: 32px;\n",
              "      padding: 0 0 0 0;\n",
              "      width: 32px;\n",
              "    }\n",
              "\n",
              "    .colab-df-convert:hover {\n",
              "      background-color: #E2EBFA;\n",
              "      box-shadow: 0px 1px 2px rgba(60, 64, 67, 0.3), 0px 1px 3px 1px rgba(60, 64, 67, 0.15);\n",
              "      fill: #174EA6;\n",
              "    }\n",
              "\n",
              "    [theme=dark] .colab-df-convert {\n",
              "      background-color: #3B4455;\n",
              "      fill: #D2E3FC;\n",
              "    }\n",
              "\n",
              "    [theme=dark] .colab-df-convert:hover {\n",
              "      background-color: #434B5C;\n",
              "      box-shadow: 0px 1px 3px 1px rgba(0, 0, 0, 0.15);\n",
              "      filter: drop-shadow(0px 1px 2px rgba(0, 0, 0, 0.3));\n",
              "      fill: #FFFFFF;\n",
              "    }\n",
              "  </style>\n",
              "\n",
              "      <script>\n",
              "        const buttonEl =\n",
              "          document.querySelector('#df-1c933524-1f63-4234-97dd-5ba4dcdcc4b7 button.colab-df-convert');\n",
              "        buttonEl.style.display =\n",
              "          google.colab.kernel.accessAllowed ? 'block' : 'none';\n",
              "\n",
              "        async function convertToInteractive(key) {\n",
              "          const element = document.querySelector('#df-1c933524-1f63-4234-97dd-5ba4dcdcc4b7');\n",
              "          const dataTable =\n",
              "            await google.colab.kernel.invokeFunction('convertToInteractive',\n",
              "                                                     [key], {});\n",
              "          if (!dataTable) return;\n",
              "\n",
              "          const docLinkHtml = 'Like what you see? Visit the ' +\n",
              "            '<a target=\"_blank\" href=https://colab.research.google.com/notebooks/data_table.ipynb>data table notebook</a>'\n",
              "            + ' to learn more about interactive tables.';\n",
              "          element.innerHTML = '';\n",
              "          dataTable['output_type'] = 'display_data';\n",
              "          await google.colab.output.renderOutput(dataTable, element);\n",
              "          const docLink = document.createElement('div');\n",
              "          docLink.innerHTML = docLinkHtml;\n",
              "          element.appendChild(docLink);\n",
              "        }\n",
              "      </script>\n",
              "    </div>\n",
              "  </div>\n",
              "  "
            ]
          },
          "metadata": {},
          "execution_count": 43
        }
      ]
    },
    {
      "metadata": {
        "id": "IuCehuKdNy5B"
      },
      "cell_type": "markdown",
      "source": [
        "### Parte 3: Ajustes finales\n"
      ]
    },
    {
      "metadata": {
        "id": "5lcTVnisNy4_"
      },
      "cell_type": "markdown",
      "source": [
        "Debajo podemos observar que nos faltan ciertos valores."
      ]
    },
    {
      "metadata": {
        "id": "bPWFYQ0ENy5A",
        "colab": {
          "base_uri": "https://localhost:8080/"
        },
        "outputId": "e7b357a6-04a5-4a64-81fe-565cc06172da"
      },
      "cell_type": "code",
      "source": [
        "data_falcon9.isnull().sum()"
      ],
      "execution_count": null,
      "outputs": [
        {
          "output_type": "execute_result",
          "data": {
            "text/plain": [
              "FlightNumber        0\n",
              "Date                0\n",
              "BoosterVersion      0\n",
              "PayloadMass        22\n",
              "Payload             0\n",
              "Orbit               1\n",
              "LaunchSite          0\n",
              "LandingOutcome      0\n",
              "Flights             0\n",
              "GridFins            0\n",
              "Reused              0\n",
              "Legs                0\n",
              "LandingPad         26\n",
              "Block               0\n",
              "Customers           0\n",
              "Mission_Outcome     1\n",
              "ReusedCount         0\n",
              "Serial              0\n",
              "Longitude           0\n",
              "Latitude            0\n",
              "dtype: int64"
            ]
          },
          "metadata": {},
          "execution_count": 44
        }
      ]
    },
    {
      "metadata": {
        "id": "mt1EGpD_Ny5A"
      },
      "cell_type": "markdown",
      "source": [
        "* Lo óptimo sería no tener celdas vacías por lo que vamos a ver que podemos hacer para solucionar esta situación.\n",
        "La columna <code>LandingPad</code> tiene valores `None`en los casos donde el cohete no tuvo intención de aterrizar por lo que no tenía ningún LandingPad asignado. \n",
        "\n",
        "* Por otro lado, los valores innexistentes de `PayloadMass` si se pueden completar. *En este caso utilizaras la función `.mean()` para calcular la media y `.replace()` para reemplzar los valores `np.nan`.* \n"
      ]
    },
    {
      "metadata": {
        "id": "9cj3YeMyNy5B",
        "colab": {
          "base_uri": "https://localhost:8080/"
        },
        "outputId": "f9533aad-694a-4f74-ce6e-d9ff29169fbd"
      },
      "cell_type": "code",
      "source": [
        "# INSERTA AQUI TU CÓDIGO\n",
        "media = data_falcon9[\"PayloadMass\"].mean()\n",
        "nueva_columna = data_falcon9[\"PayloadMass\"].replace(np.nan, media)\n",
        "data_falcon9[\"PayloadMass\"] = nueva_columna\n",
        "\n",
        "data_falcon9.isnull().sum()"
      ],
      "execution_count": null,
      "outputs": [
        {
          "output_type": "stream",
          "name": "stderr",
          "text": [
            "<ipython-input-45-3e95187cf713>:4: SettingWithCopyWarning: \n",
            "A value is trying to be set on a copy of a slice from a DataFrame.\n",
            "Try using .loc[row_indexer,col_indexer] = value instead\n",
            "\n",
            "See the caveats in the documentation: https://pandas.pydata.org/pandas-docs/stable/user_guide/indexing.html#returning-a-view-versus-a-copy\n",
            "  data_falcon9[\"PayloadMass\"] = nueva_columna\n"
          ]
        },
        {
          "output_type": "execute_result",
          "data": {
            "text/plain": [
              "FlightNumber        0\n",
              "Date                0\n",
              "BoosterVersion      0\n",
              "PayloadMass         0\n",
              "Payload             0\n",
              "Orbit               1\n",
              "LaunchSite          0\n",
              "LandingOutcome      0\n",
              "Flights             0\n",
              "GridFins            0\n",
              "Reused              0\n",
              "Legs                0\n",
              "LandingPad         26\n",
              "Block               0\n",
              "Customers           0\n",
              "Mission_Outcome     1\n",
              "ReusedCount         0\n",
              "Serial              0\n",
              "Longitude           0\n",
              "Latitude            0\n",
              "dtype: int64"
            ]
          },
          "metadata": {},
          "execution_count": 45
        }
      ]
    },
    {
      "metadata": {
        "id": "Lg7bF8KZNy5C"
      },
      "cell_type": "markdown",
      "source": [
        "El número de celdas vacías en la columna <code>PayLoadMass</code> debería cambiar a 0.\n"
      ]
    },
    {
      "cell_type": "markdown",
      "source": [
        "Por último tenemos que la columna `Customers` es una lista, y como hemos comentado previamente, no se llevan especialmente bien con SQL. \n",
        "*Transforma esta lista en una string aplicando `.map(lambda x : ','.join(x))` a la columna y guardalo en la misma columna.*"
      ],
      "metadata": {
        "id": "AlDu_Grp2FNV"
      }
    },
    {
      "cell_type": "code",
      "source": [
        "#INSERTA AQUÍ TU CÓDIGO\n",
        "#data_falcon9['Customers'] = data_falcon9['Customers'].map(lambda x : ','.join(x))\n",
        "data_falcon9['Customers']"
      ],
      "metadata": {
        "id": "WfXu39b51MWG",
        "outputId": "65e8503d-e288-499d-8c15-d58799ff3b7f",
        "colab": {
          "base_uri": "https://localhost:8080/"
        }
      },
      "execution_count": null,
      "outputs": [
        {
          "output_type": "execute_result",
          "data": {
            "text/plain": [
              "4             SpaceX\n",
              "5         NASA(COTS)\n",
              "6         NASA (CRS)\n",
              "7                MDA\n",
              "8                SES\n",
              "           ...      \n",
              "167           SpaceX\n",
              "168           SpaceX\n",
              "169           SpaceX\n",
              "170           SpaceX\n",
              "171    NASA (CCtCap)\n",
              "Name: Customers, Length: 168, dtype: object"
            ]
          },
          "metadata": {},
          "execution_count": 48
        }
      ]
    },
    {
      "metadata": {
        "id": "lEEqQmudNy5C"
      },
      "cell_type": "markdown",
      "source": [
        "*Ahora exporta el dataset en formato `.csv`  con `index=False` y llámalo `dataset_part_1.csv`. Descarga el archivo porque será necesario en la siguiente práctica.*\n"
      ]
    },
    {
      "cell_type": "code",
      "source": [
        "#INSERTA AQUÍ TU CÓDIGO\n",
        "data_falcon9.to_csv('dataset_part_1.csv', index=False)"
      ],
      "metadata": {
        "id": "j7kiOimEaPk7"
      },
      "execution_count": null,
      "outputs": []
    }
  ],
  "metadata": {
    "kernelspec": {
      "name": "python3",
      "display_name": "Python 3.9",
      "language": "python"
    },
    "language_info": {
      "name": "python",
      "version": "3.9.12",
      "mimetype": "text/x-python",
      "codemirror_mode": {
        "name": "ipython",
        "version": 3
      },
      "pygments_lexer": "ipython3",
      "nbconvert_exporter": "python",
      "file_extension": ".py"
    },
    "colab": {
      "provenance": [],
      "collapsed_sections": [
        "6ZjSain5Ny49",
        "IuCehuKdNy5B"
      ],
      "include_colab_link": true
    }
  },
  "nbformat": 4,
  "nbformat_minor": 0
}